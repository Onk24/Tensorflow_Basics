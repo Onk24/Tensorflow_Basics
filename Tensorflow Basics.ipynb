{
 "cells": [
  {
   "cell_type": "code",
   "execution_count": 25,
   "metadata": {
    "ExecuteTime": {
     "end_time": "2020-05-28T16:59:50.821284Z",
     "start_time": "2020-05-28T16:59:50.813661Z"
    }
   },
   "outputs": [],
   "source": [
    "import tensorflow as tf\n",
    "from tensorflow import keras\n",
    "import numpy as np\n",
    "from keras.models import Sequential\n",
    "from keras.layers import Dense"
   ]
  },
  {
   "cell_type": "markdown",
   "metadata": {},
   "source": [
    "# Simple NN in Numpy"
   ]
  },
  {
   "cell_type": "code",
   "execution_count": 26,
   "metadata": {
    "ExecuteTime": {
     "end_time": "2020-05-28T16:59:51.185197Z",
     "start_time": "2020-05-28T16:59:51.177206Z"
    }
   },
   "outputs": [],
   "source": [
    "x = np.array([1,2,3,4,5,6,7,8,9,10], dtype = float)\n",
    "y = 2*x-2"
   ]
  },
  {
   "cell_type": "code",
   "execution_count": 27,
   "metadata": {
    "ExecuteTime": {
     "end_time": "2020-05-28T16:59:51.377924Z",
     "start_time": "2020-05-28T16:59:51.369517Z"
    }
   },
   "outputs": [],
   "source": [
    "def loss(y, y_hat):\n",
    "    return np.mean(np.square(y-y_hat))/2"
   ]
  },
  {
   "cell_type": "code",
   "execution_count": 28,
   "metadata": {
    "ExecuteTime": {
     "end_time": "2020-05-28T16:59:51.550152Z",
     "start_time": "2020-05-28T16:59:51.542997Z"
    }
   },
   "outputs": [],
   "source": [
    "def initialize():\n",
    "    return [0,0]"
   ]
  },
  {
   "cell_type": "code",
   "execution_count": 29,
   "metadata": {
    "ExecuteTime": {
     "end_time": "2020-05-28T16:59:51.763257Z",
     "start_time": "2020-05-28T16:59:51.750466Z"
    }
   },
   "outputs": [],
   "source": [
    "def optimize(y,x, alpha = 0.01):\n",
    "    w,b = initialize()\n",
    "    for i in range(5000):\n",
    "        y_hat = w*x+b\n",
    "        l = loss(y, y_hat)\n",
    "        #print(l)\n",
    "        dw = np.mean((y_hat-y)*x)\n",
    "        db = np.mean(y_hat-y)\n",
    "        w = w-alpha*dw\n",
    "        b = b-alpha*db\n",
    "    return w,b"
   ]
  },
  {
   "cell_type": "code",
   "execution_count": 30,
   "metadata": {
    "ExecuteTime": {
     "end_time": "2020-05-28T16:59:52.163996Z",
     "start_time": "2020-05-28T16:59:51.944059Z"
    }
   },
   "outputs": [
    {
     "data": {
      "text/plain": [
       "(1.9999912230943668, -1.9999388967420317)"
      ]
     },
     "execution_count": 30,
     "metadata": {},
     "output_type": "execute_result"
    }
   ],
   "source": [
    "optimize(y,x)"
   ]
  },
  {
   "cell_type": "markdown",
   "metadata": {},
   "source": [
    "# Tensorflow\n",
    "- What is tensor? <Br>\n",
    "Generalization of vectors or matrices\n"
   ]
  },
  {
   "cell_type": "markdown",
   "metadata": {
    "ExecuteTime": {
     "end_time": "2020-05-26T02:46:03.189584Z",
     "start_time": "2020-05-26T02:46:03.182096Z"
    }
   },
   "source": [
    "## Define a tensor"
   ]
  },
  {
   "cell_type": "code",
   "execution_count": 31,
   "metadata": {
    "ExecuteTime": {
     "end_time": "2020-05-28T16:59:52.437164Z",
     "start_time": "2020-05-28T16:59:52.432126Z"
    }
   },
   "outputs": [],
   "source": [
    "import tensorflow as tf"
   ]
  },
  {
   "cell_type": "code",
   "execution_count": 32,
   "metadata": {
    "ExecuteTime": {
     "end_time": "2020-05-28T16:59:52.665004Z",
     "start_time": "2020-05-28T16:59:52.658658Z"
    }
   },
   "outputs": [],
   "source": [
    "d0 = tf.ones((1,1))\n",
    "d1 = tf.ones((2,))\n",
    "d2 = tf.ones((2,2))"
   ]
  },
  {
   "cell_type": "code",
   "execution_count": 33,
   "metadata": {
    "ExecuteTime": {
     "end_time": "2020-05-28T16:59:52.832055Z",
     "start_time": "2020-05-28T16:59:52.825280Z"
    }
   },
   "outputs": [
    {
     "data": {
      "text/plain": [
       "array([[1.]], dtype=float32)"
      ]
     },
     "execution_count": 33,
     "metadata": {},
     "output_type": "execute_result"
    }
   ],
   "source": [
    "d0.numpy()"
   ]
  },
  {
   "cell_type": "markdown",
   "metadata": {},
   "source": [
    "## Constant \n",
    "- Not trainable\n",
    "- Can have any dimensions"
   ]
  },
  {
   "cell_type": "code",
   "execution_count": 34,
   "metadata": {
    "ExecuteTime": {
     "end_time": "2020-05-28T16:59:53.206094Z",
     "start_time": "2020-05-28T16:59:53.201547Z"
    }
   },
   "outputs": [],
   "source": [
    "constant = tf.constant([5,2])\n",
    "constant2 = tf.fill([5,2], 1)"
   ]
  },
  {
   "cell_type": "code",
   "execution_count": 35,
   "metadata": {
    "ExecuteTime": {
     "end_time": "2020-05-28T16:59:53.392597Z",
     "start_time": "2020-05-28T16:59:53.385354Z"
    }
   },
   "outputs": [
    {
     "data": {
      "text/plain": [
       "array([5, 2])"
      ]
     },
     "execution_count": 35,
     "metadata": {},
     "output_type": "execute_result"
    }
   ],
   "source": [
    "constant.numpy()"
   ]
  },
  {
   "cell_type": "code",
   "execution_count": 36,
   "metadata": {
    "ExecuteTime": {
     "end_time": "2020-05-28T16:59:53.591727Z",
     "start_time": "2020-05-28T16:59:53.584078Z"
    }
   },
   "outputs": [
    {
     "data": {
      "text/plain": [
       "array([[1, 1],\n",
       "       [1, 1],\n",
       "       [1, 1],\n",
       "       [1, 1],\n",
       "       [1, 1]])"
      ]
     },
     "execution_count": 36,
     "metadata": {},
     "output_type": "execute_result"
    }
   ],
   "source": [
    "constant2.numpy()"
   ]
  },
  {
   "cell_type": "markdown",
   "metadata": {},
   "source": [
    "## Variables\n",
    "- These can change later during computation"
   ]
  },
  {
   "cell_type": "code",
   "execution_count": 37,
   "metadata": {
    "ExecuteTime": {
     "end_time": "2020-05-28T16:59:53.972062Z",
     "start_time": "2020-05-28T16:59:53.960551Z"
    }
   },
   "outputs": [],
   "source": [
    "a0 = tf.Variable([1,2,4,5], dtype = tf.float32)"
   ]
  },
  {
   "cell_type": "code",
   "execution_count": 38,
   "metadata": {
    "ExecuteTime": {
     "end_time": "2020-05-28T16:59:54.152449Z",
     "start_time": "2020-05-28T16:59:54.144976Z"
    }
   },
   "outputs": [
    {
     "data": {
      "text/plain": [
       "array([1., 2., 4., 5.], dtype=float32)"
      ]
     },
     "execution_count": 38,
     "metadata": {},
     "output_type": "execute_result"
    }
   ],
   "source": [
    "a0.numpy()"
   ]
  },
  {
   "cell_type": "markdown",
   "metadata": {},
   "source": [
    "## Addition, Mulitply and Matmul, Reducesum\n",
    "- add(): element wise addition of tensors\n",
    "- multiply(): element wise multiplication\n",
    "- matmul(): tensor multiplication\n",
    "- reduce_sum(A,i): sums over dimenstion i, if i not specified then over the whole tensor"
   ]
  },
  {
   "cell_type": "markdown",
   "metadata": {},
   "source": [
    "## Advanced Operations\n",
    "- gradient(): computes slope of a function at a point\n",
    "- reshape()\n",
    "- random()"
   ]
  },
  {
   "cell_type": "code",
   "execution_count": 39,
   "metadata": {
    "ExecuteTime": {
     "end_time": "2020-05-28T16:59:54.746464Z",
     "start_time": "2020-05-28T16:59:54.736166Z"
    }
   },
   "outputs": [],
   "source": [
    "def compute_gradient(x0):\n",
    "    # Define x as a variable with an initial value of x0\n",
    "    x = tf.Variable(x0)\n",
    "    with GradientTape() as tape:\n",
    "        tape.watch(x)\n",
    "        # Define y using the multiply operation\n",
    "        y =tf.multiply(x,x)\n",
    "    # Return the gradient of y with respect to x\n",
    "    return tape.gradient(y,x).numpy()"
   ]
  },
  {
   "cell_type": "markdown",
   "metadata": {},
   "source": [
    "# Building a model with TF to derive a simple function"
   ]
  },
  {
   "cell_type": "markdown",
   "metadata": {},
   "source": [
    "## Initialize Variables"
   ]
  },
  {
   "cell_type": "code",
   "execution_count": 40,
   "metadata": {
    "ExecuteTime": {
     "end_time": "2020-05-28T16:59:55.531918Z",
     "start_time": "2020-05-28T16:59:55.519320Z"
    }
   },
   "outputs": [],
   "source": [
    "x = tf.constant([1,2,3,4,5,6,7,8,9,10], dtype = \"float32\")\n",
    "y = 2*x-2\n",
    "m = tf.Variable(0.0, \"float32\")\n",
    "b = tf.Variable(0.0, \"float32\")"
   ]
  },
  {
   "cell_type": "markdown",
   "metadata": {},
   "source": [
    "## Loss functions \n",
    "- mse, mae etc"
   ]
  },
  {
   "cell_type": "code",
   "execution_count": 41,
   "metadata": {
    "ExecuteTime": {
     "end_time": "2020-05-28T16:59:56.106448Z",
     "start_time": "2020-05-28T16:59:56.095641Z"
    }
   },
   "outputs": [],
   "source": [
    "def loss_function(m,b,Y= y,X=x):\n",
    "    y_hat = b+(m*X)\n",
    "    return keras.losses.mse(Y,y_hat)"
   ]
  },
  {
   "cell_type": "code",
   "execution_count": 42,
   "metadata": {
    "ExecuteTime": {
     "end_time": "2020-05-28T16:59:56.330972Z",
     "start_time": "2020-05-28T16:59:56.312865Z"
    }
   },
   "outputs": [
    {
     "data": {
      "text/plain": [
       "99.505"
      ]
     },
     "execution_count": 42,
     "metadata": {},
     "output_type": "execute_result"
    }
   ],
   "source": [
    "loss_function(0.1, 0.1).numpy()"
   ]
  },
  {
   "cell_type": "markdown",
   "metadata": {},
   "source": [
    "## Optimizers \n",
    "- Adam: keras.optimizers.Adam()\n",
    "- SGD: keras.optimizers.SGD()\n",
    "- GD: keras.optimizers.GD()"
   ]
  },
  {
   "cell_type": "code",
   "execution_count": 43,
   "metadata": {
    "ExecuteTime": {
     "end_time": "2020-05-28T16:59:57.448268Z",
     "start_time": "2020-05-28T16:59:57.440952Z"
    }
   },
   "outputs": [],
   "source": [
    "opt = keras.optimizers.Adam(learning_rate = 0.01, beta_1 = 0.9, beta_2 = 0.999)"
   ]
  },
  {
   "cell_type": "code",
   "execution_count": 48,
   "metadata": {
    "ExecuteTime": {
     "end_time": "2020-05-28T17:01:24.644396Z",
     "start_time": "2020-05-28T17:00:44.832896Z"
    }
   },
   "outputs": [],
   "source": [
    "for i in range(10000):\n",
    "    opt.minimize(lambda: loss_function(m,b), var_list = [m,b])"
   ]
  },
  {
   "cell_type": "code",
   "execution_count": 49,
   "metadata": {
    "ExecuteTime": {
     "end_time": "2020-05-28T17:01:24.660177Z",
     "start_time": "2020-05-28T17:01:24.648407Z"
    }
   },
   "outputs": [
    {
     "data": {
      "text/plain": [
       "(2.0, -2.0)"
      ]
     },
     "execution_count": 49,
     "metadata": {},
     "output_type": "execute_result"
    }
   ],
   "source": [
    "m.numpy(), b.numpy()"
   ]
  },
  {
   "cell_type": "markdown",
   "metadata": {},
   "source": [
    "We recover approximately the same values for m i.e. 2 and b i.e. -2"
   ]
  },
  {
   "cell_type": "markdown",
   "metadata": {},
   "source": [
    "# MLR Implementation"
   ]
  },
  {
   "cell_type": "markdown",
   "metadata": {},
   "source": [
    "## Using Sklearn"
   ]
  },
  {
   "cell_type": "code",
   "execution_count": 50,
   "metadata": {
    "ExecuteTime": {
     "end_time": "2020-05-28T17:01:46.430039Z",
     "start_time": "2020-05-28T17:01:41.010451Z"
    }
   },
   "outputs": [],
   "source": [
    "from sklearn.datasets import load_boston\n",
    "from sklearn.linear_model import LinearRegression\n",
    "import pandas as pd\n",
    "import seaborn as sns\n",
    "from matplotlib import pyplot as plt\n",
    "from sklearn.metrics import mean_squared_error"
   ]
  },
  {
   "cell_type": "code",
   "execution_count": 51,
   "metadata": {
    "ExecuteTime": {
     "end_time": "2020-05-28T17:01:46.526705Z",
     "start_time": "2020-05-28T17:01:46.433457Z"
    }
   },
   "outputs": [],
   "source": [
    "boston_data = load_boston()"
   ]
  },
  {
   "cell_type": "code",
   "execution_count": 52,
   "metadata": {
    "ExecuteTime": {
     "end_time": "2020-05-28T17:01:46.542522Z",
     "start_time": "2020-05-28T17:01:46.533880Z"
    }
   },
   "outputs": [
    {
     "data": {
      "text/plain": [
       "dict_keys(['data', 'target', 'feature_names', 'DESCR', 'filename'])"
      ]
     },
     "execution_count": 52,
     "metadata": {},
     "output_type": "execute_result"
    }
   ],
   "source": [
    "boston_data.keys()"
   ]
  },
  {
   "cell_type": "code",
   "execution_count": 53,
   "metadata": {
    "ExecuteTime": {
     "end_time": "2020-05-28T17:01:46.562510Z",
     "start_time": "2020-05-28T17:01:46.549297Z"
    }
   },
   "outputs": [],
   "source": [
    "boston_df = pd.DataFrame(data = np.c_[boston_data[\"data\"], boston_data[\"target\"]], columns = (list(boston_data[\"feature_names\"])+[\"PRICE\"]))"
   ]
  },
  {
   "cell_type": "code",
   "execution_count": 54,
   "metadata": {
    "ExecuteTime": {
     "end_time": "2020-05-28T17:01:46.618008Z",
     "start_time": "2020-05-28T17:01:46.569037Z"
    }
   },
   "outputs": [
    {
     "data": {
      "text/html": [
       "<div>\n",
       "<style scoped>\n",
       "    .dataframe tbody tr th:only-of-type {\n",
       "        vertical-align: middle;\n",
       "    }\n",
       "\n",
       "    .dataframe tbody tr th {\n",
       "        vertical-align: top;\n",
       "    }\n",
       "\n",
       "    .dataframe thead th {\n",
       "        text-align: right;\n",
       "    }\n",
       "</style>\n",
       "<table border=\"1\" class=\"dataframe\">\n",
       "  <thead>\n",
       "    <tr style=\"text-align: right;\">\n",
       "      <th></th>\n",
       "      <th>CRIM</th>\n",
       "      <th>ZN</th>\n",
       "      <th>INDUS</th>\n",
       "      <th>CHAS</th>\n",
       "      <th>NOX</th>\n",
       "      <th>RM</th>\n",
       "      <th>AGE</th>\n",
       "      <th>DIS</th>\n",
       "      <th>RAD</th>\n",
       "      <th>TAX</th>\n",
       "      <th>PTRATIO</th>\n",
       "      <th>B</th>\n",
       "      <th>LSTAT</th>\n",
       "      <th>PRICE</th>\n",
       "    </tr>\n",
       "  </thead>\n",
       "  <tbody>\n",
       "    <tr>\n",
       "      <th>0</th>\n",
       "      <td>0.00632</td>\n",
       "      <td>18.0</td>\n",
       "      <td>2.31</td>\n",
       "      <td>0.0</td>\n",
       "      <td>0.538</td>\n",
       "      <td>6.575</td>\n",
       "      <td>65.2</td>\n",
       "      <td>4.0900</td>\n",
       "      <td>1.0</td>\n",
       "      <td>296.0</td>\n",
       "      <td>15.3</td>\n",
       "      <td>396.90</td>\n",
       "      <td>4.98</td>\n",
       "      <td>24.0</td>\n",
       "    </tr>\n",
       "    <tr>\n",
       "      <th>1</th>\n",
       "      <td>0.02731</td>\n",
       "      <td>0.0</td>\n",
       "      <td>7.07</td>\n",
       "      <td>0.0</td>\n",
       "      <td>0.469</td>\n",
       "      <td>6.421</td>\n",
       "      <td>78.9</td>\n",
       "      <td>4.9671</td>\n",
       "      <td>2.0</td>\n",
       "      <td>242.0</td>\n",
       "      <td>17.8</td>\n",
       "      <td>396.90</td>\n",
       "      <td>9.14</td>\n",
       "      <td>21.6</td>\n",
       "    </tr>\n",
       "    <tr>\n",
       "      <th>2</th>\n",
       "      <td>0.02729</td>\n",
       "      <td>0.0</td>\n",
       "      <td>7.07</td>\n",
       "      <td>0.0</td>\n",
       "      <td>0.469</td>\n",
       "      <td>7.185</td>\n",
       "      <td>61.1</td>\n",
       "      <td>4.9671</td>\n",
       "      <td>2.0</td>\n",
       "      <td>242.0</td>\n",
       "      <td>17.8</td>\n",
       "      <td>392.83</td>\n",
       "      <td>4.03</td>\n",
       "      <td>34.7</td>\n",
       "    </tr>\n",
       "    <tr>\n",
       "      <th>3</th>\n",
       "      <td>0.03237</td>\n",
       "      <td>0.0</td>\n",
       "      <td>2.18</td>\n",
       "      <td>0.0</td>\n",
       "      <td>0.458</td>\n",
       "      <td>6.998</td>\n",
       "      <td>45.8</td>\n",
       "      <td>6.0622</td>\n",
       "      <td>3.0</td>\n",
       "      <td>222.0</td>\n",
       "      <td>18.7</td>\n",
       "      <td>394.63</td>\n",
       "      <td>2.94</td>\n",
       "      <td>33.4</td>\n",
       "    </tr>\n",
       "    <tr>\n",
       "      <th>4</th>\n",
       "      <td>0.06905</td>\n",
       "      <td>0.0</td>\n",
       "      <td>2.18</td>\n",
       "      <td>0.0</td>\n",
       "      <td>0.458</td>\n",
       "      <td>7.147</td>\n",
       "      <td>54.2</td>\n",
       "      <td>6.0622</td>\n",
       "      <td>3.0</td>\n",
       "      <td>222.0</td>\n",
       "      <td>18.7</td>\n",
       "      <td>396.90</td>\n",
       "      <td>5.33</td>\n",
       "      <td>36.2</td>\n",
       "    </tr>\n",
       "  </tbody>\n",
       "</table>\n",
       "</div>"
      ],
      "text/plain": [
       "      CRIM    ZN  INDUS  CHAS    NOX     RM   AGE     DIS  RAD    TAX  \\\n",
       "0  0.00632  18.0   2.31   0.0  0.538  6.575  65.2  4.0900  1.0  296.0   \n",
       "1  0.02731   0.0   7.07   0.0  0.469  6.421  78.9  4.9671  2.0  242.0   \n",
       "2  0.02729   0.0   7.07   0.0  0.469  7.185  61.1  4.9671  2.0  242.0   \n",
       "3  0.03237   0.0   2.18   0.0  0.458  6.998  45.8  6.0622  3.0  222.0   \n",
       "4  0.06905   0.0   2.18   0.0  0.458  7.147  54.2  6.0622  3.0  222.0   \n",
       "\n",
       "   PTRATIO       B  LSTAT  PRICE  \n",
       "0     15.3  396.90   4.98   24.0  \n",
       "1     17.8  396.90   9.14   21.6  \n",
       "2     17.8  392.83   4.03   34.7  \n",
       "3     18.7  394.63   2.94   33.4  \n",
       "4     18.7  396.90   5.33   36.2  "
      ]
     },
     "execution_count": 54,
     "metadata": {},
     "output_type": "execute_result"
    }
   ],
   "source": [
    "boston_df.head()"
   ]
  },
  {
   "cell_type": "code",
   "execution_count": 55,
   "metadata": {
    "ExecuteTime": {
     "end_time": "2020-05-28T17:01:47.271754Z",
     "start_time": "2020-05-28T17:01:46.620783Z"
    }
   },
   "outputs": [
    {
     "data": {
      "image/png": "[encoded data removed]",
      "text/plain": [
       "<Figure size 864x288 with 2 Axes>"
      ]
     },
     "metadata": {
      "needs_background": "light"
     },
     "output_type": "display_data"
    }
   ],
   "source": [
    "fig, ax = plt.subplots(1,2, figsize = (12,4))\n",
    "sns.scatterplot(boston_df[\"RM\"], boston_df[\"PRICE\"], ax = ax[0]);\n",
    "sns.scatterplot(boston_df[\"AGE\"], boston_df[\"PRICE\"], ax = ax[1]);"
   ]
  },
  {
   "cell_type": "code",
   "execution_count": 56,
   "metadata": {
    "ExecuteTime": {
     "end_time": "2020-05-28T17:01:47.459282Z",
     "start_time": "2020-05-28T17:01:47.273880Z"
    }
   },
   "outputs": [
    {
     "data": {
      "text/plain": [
       "LinearRegression(copy_X=True, fit_intercept=True, n_jobs=None, normalize=False)"
      ]
     },
     "execution_count": 56,
     "metadata": {},
     "output_type": "execute_result"
    }
   ],
   "source": [
    "lr = LinearRegression()\n",
    "lr.fit(boston_df[[\"RM\", \"AGE\"]], boston_df[\"PRICE\"])"
   ]
  },
  {
   "cell_type": "code",
   "execution_count": 57,
   "metadata": {
    "ExecuteTime": {
     "end_time": "2020-05-28T17:01:47.471280Z",
     "start_time": "2020-05-28T17:01:47.463954Z"
    }
   },
   "outputs": [
    {
     "data": {
      "text/plain": [
       "(-25.27739905297705, array([ 8.40158122, -0.07277679]))"
      ]
     },
     "execution_count": 57,
     "metadata": {},
     "output_type": "execute_result"
    }
   ],
   "source": [
    "lr.intercept_,lr.coef_"
   ]
  },
  {
   "cell_type": "code",
   "execution_count": 58,
   "metadata": {
    "ExecuteTime": {
     "end_time": "2020-05-28T17:01:47.482879Z",
     "start_time": "2020-05-28T17:01:47.473274Z"
    }
   },
   "outputs": [
    {
     "data": {
      "text/plain": [
       "(506, 1)"
      ]
     },
     "execution_count": 58,
     "metadata": {},
     "output_type": "execute_result"
    }
   ],
   "source": [
    "boston_df[[\"PRICE\"]].shape"
   ]
  },
  {
   "cell_type": "code",
   "execution_count": 62,
   "metadata": {
    "ExecuteTime": {
     "end_time": "2020-05-28T17:02:06.198704Z",
     "start_time": "2020-05-28T17:02:06.184858Z"
    }
   },
   "outputs": [
    {
     "data": {
      "text/plain": [
       "39.653935459101675"
      ]
     },
     "execution_count": 62,
     "metadata": {},
     "output_type": "execute_result"
    }
   ],
   "source": [
    "lr_mse = mean_squared_error(boston_df[[\"PRICE\"]],lr.predict(boston_df[[\"RM\", \"AGE\"]]))\n",
    "lr_mse"
   ]
  },
  {
   "cell_type": "code",
   "execution_count": 64,
   "metadata": {
    "ExecuteTime": {
     "end_time": "2020-05-28T17:02:16.515191Z",
     "start_time": "2020-05-28T17:02:16.335843Z"
    }
   },
   "outputs": [
    {
     "data": {
      "image/png": "[encoded data removed]",
      "text/plain": [
       "<Figure size 432x288 with 1 Axes>"
      ]
     },
     "metadata": {
      "needs_background": "light"
     },
     "output_type": "display_data"
    }
   ],
   "source": [
    "ax = sns.scatterplot(boston_df[\"PRICE\"], lr.predict(boston_df[[\"RM\", \"AGE\"]]),linewidth=3)\n",
    "ax.set_xlabel(\"PRICE\")\n",
    "ax.set_ylabel(\"PREDICTION\");"
   ]
  },
  {
   "cell_type": "markdown",
   "metadata": {},
   "source": [
    "## Using TF"
   ]
  },
  {
   "cell_type": "markdown",
   "metadata": {},
   "source": [
    "### Initialization "
   ]
  },
  {
   "cell_type": "code",
   "execution_count": 91,
   "metadata": {
    "ExecuteTime": {
     "end_time": "2020-05-28T17:06:10.537870Z",
     "start_time": "2020-05-28T17:06:10.529007Z"
    }
   },
   "outputs": [],
   "source": [
    "intercept = tf.Variable(0, dtype = \"float32\")\n",
    "weights = tf.Variable(tf.random.normal([2,1]))"
   ]
  },
  {
   "cell_type": "markdown",
   "metadata": {},
   "source": [
    "### Multiple Linear Regression Model "
   ]
  },
  {
   "cell_type": "code",
   "execution_count": 92,
   "metadata": {
    "ExecuteTime": {
     "end_time": "2020-05-28T17:06:10.893708Z",
     "start_time": "2020-05-28T17:06:10.889276Z"
    }
   },
   "outputs": [],
   "source": [
    "def linear_regression(intercept, weights, features = boston_df[[\"RM\", \"AGE\"]]):\n",
    "    features = np.array(features)\n",
    "    features = np.float32(features)\n",
    "    output = tf.matmul(features, weights)+intercept\n",
    "    return tf.reshape(output,[-1])"
   ]
  },
  {
   "cell_type": "code",
   "execution_count": 93,
   "metadata": {
    "ExecuteTime": {
     "end_time": "2020-05-28T17:06:11.055613Z",
     "start_time": "2020-05-28T17:06:11.043862Z"
    }
   },
   "outputs": [
    {
     "data": {
      "text/plain": [
       "TensorShape([506])"
      ]
     },
     "execution_count": 93,
     "metadata": {},
     "output_type": "execute_result"
    }
   ],
   "source": [
    "linear_regression(intercept, weights).shape"
   ]
  },
  {
   "cell_type": "markdown",
   "metadata": {},
   "source": [
    "### Loss function"
   ]
  },
  {
   "cell_type": "code",
   "execution_count": 94,
   "metadata": {
    "ExecuteTime": {
     "end_time": "2020-05-28T17:06:11.423180Z",
     "start_time": "2020-05-28T17:06:11.410731Z"
    }
   },
   "outputs": [],
   "source": [
    "def loss_function(intercept, weights, target = boston_df[\"PRICE\"], features = boston_df[[\"RM\", \"AGE\"]]):\n",
    "    predictions = linear_regression(intercept, weights, features)\n",
    "    return keras.losses.mse(np.array(target), predictions)"
   ]
  },
  {
   "cell_type": "code",
   "execution_count": 95,
   "metadata": {
    "ExecuteTime": {
     "end_time": "2020-05-28T17:06:11.594402Z",
     "start_time": "2020-05-28T17:06:11.585347Z"
    }
   },
   "outputs": [
    {
     "data": {
      "text/plain": [
       "<tf.Tensor: shape=(), dtype=float32, numpy=15297.404>"
      ]
     },
     "execution_count": 95,
     "metadata": {},
     "output_type": "execute_result"
    }
   ],
   "source": [
    "loss_function(intercept, weights)"
   ]
  },
  {
   "cell_type": "markdown",
   "metadata": {},
   "source": [
    "### Optimize loss function"
   ]
  },
  {
   "cell_type": "code",
   "execution_count": 96,
   "metadata": {
    "ExecuteTime": {
     "end_time": "2020-05-28T17:06:11.973369Z",
     "start_time": "2020-05-28T17:06:11.960647Z"
    }
   },
   "outputs": [],
   "source": [
    "optimizer = tf.keras.optimizers.Adam()"
   ]
  },
  {
   "cell_type": "code",
   "execution_count": 97,
   "metadata": {
    "ExecuteTime": {
     "end_time": "2020-05-28T17:06:16.497389Z",
     "start_time": "2020-05-28T17:06:12.152952Z"
    }
   },
   "outputs": [],
   "source": [
    "for i in range(100000):\n",
    "    optimizer.minimize(lambda:loss_function(intercept, weights), var_list = [intercept, weights])"
   ]
  },
  {
   "cell_type": "code",
   "execution_count": 98,
   "metadata": {
    "ExecuteTime": {
     "end_time": "2020-05-28T17:06:16.517617Z",
     "start_time": "2020-05-28T17:06:16.502299Z"
    }
   },
   "outputs": [
    {
     "name": "stdout",
     "output_type": "stream",
     "text": [
      "Intercept = -0.8285226 Weights are = [[0.06696787]\n",
      " [1.0154865 ]]\n"
     ]
    }
   ],
   "source": [
    "print(\"Intercept = \"+str(intercept.numpy())+\" Weights are = \" +str(weights.numpy()))"
   ]
  },
  {
   "cell_type": "markdown",
   "metadata": {},
   "source": [
    "Let's compare the intercept and weights we got from the LinearRegression() modul of Sklearn"
   ]
  },
  {
   "cell_type": "code",
   "execution_count": 99,
   "metadata": {
    "ExecuteTime": {
     "end_time": "2020-05-28T17:06:16.544973Z",
     "start_time": "2020-05-28T17:06:16.526624Z"
    }
   },
   "outputs": [
    {
     "data": {
      "text/plain": [
       "(-25.27739905297705, array([ 8.40158122, -0.07277679]))"
      ]
     },
     "execution_count": 99,
     "metadata": {},
     "output_type": "execute_result"
    }
   ],
   "source": [
    "lr.intercept_,lr.coef_"
   ]
  },
  {
   "cell_type": "markdown",
   "metadata": {},
   "source": [
    "# NN Implementation TF"
   ]
  },
  {
   "cell_type": "markdown",
   "metadata": {
    "ExecuteTime": {
     "end_time": "2020-05-28T02:25:47.361636Z",
     "start_time": "2020-05-28T02:25:47.355885Z"
    }
   },
   "source": [
    "## Initialization "
   ]
  },
  {
   "cell_type": "code",
   "execution_count": 100,
   "metadata": {
    "ExecuteTime": {
     "end_time": "2020-05-28T17:06:35.776058Z",
     "start_time": "2020-05-28T17:06:35.760584Z"
    }
   },
   "outputs": [],
   "source": [
    "b1 = tf.Variable(tf.zeros(3), dtype = \"float32\")\n",
    "w1 = tf.Variable(tf.random.normal([2,3]))\n",
    "b2 = tf.Variable(tf.zeros(3),dtype = \"float32\")\n",
    "w2 = tf.Variable(tf.random.normal([3,3]))\n",
    "b3 = tf.Variable(tf.zeros(1),dtype = \"float32\")\n",
    "w3 = tf.Variable(tf.random.normal([3,1]))"
   ]
  },
  {
   "cell_type": "markdown",
   "metadata": {},
   "source": [
    "## Model"
   ]
  },
  {
   "cell_type": "code",
   "execution_count": 101,
   "metadata": {
    "ExecuteTime": {
     "end_time": "2020-05-28T17:06:36.852825Z",
     "start_time": "2020-05-28T17:06:36.841141Z"
    }
   },
   "outputs": [],
   "source": [
    "def nn_model(b1,w1,b2,w2,b3,w3, features = boston_df[[\"RM\", \"AGE\"]]):\n",
    "    features = np.array(features)\n",
    "    features = np.float32(features)\n",
    "    #first layer\n",
    "    z1 = tf.matmul(features,w1)+b1\n",
    "    a1 = z1\n",
    "    #d1 = keras.layers.Dropout(0.25)(a1)\n",
    "    #second layer\n",
    "    z2 = tf.matmul(z1,w2)+b2\n",
    "    a2 = z2\n",
    "    #d2 = keras.layers.Dropout(0.25)(a2)\n",
    "    #output layer\n",
    "    z3 = tf.matmul(z2,w3)+b3\n",
    "    return tf.reshape(z3,[-1])"
   ]
  },
  {
   "cell_type": "markdown",
   "metadata": {},
   "source": [
    "## Loss function"
   ]
  },
  {
   "cell_type": "code",
   "execution_count": 102,
   "metadata": {
    "ExecuteTime": {
     "end_time": "2020-05-28T17:06:38.558087Z",
     "start_time": "2020-05-28T17:06:38.545327Z"
    }
   },
   "outputs": [],
   "source": [
    "def nn_loss_function(b1,w1,b2,w2, b3, w3, target = boston_df[\"PRICE\"], features = boston_df[[\"RM\", \"AGE\"]]):\n",
    "    target = np.array(target)\n",
    "    predictions = nn_model(b1,w1,b2,w2,b3,w3,features)\n",
    "    return keras.losses.mse(target, predictions)"
   ]
  },
  {
   "cell_type": "markdown",
   "metadata": {},
   "source": [
    "## Optimize loss function"
   ]
  },
  {
   "cell_type": "code",
   "execution_count": 103,
   "metadata": {
    "ExecuteTime": {
     "end_time": "2020-05-28T17:06:39.480847Z",
     "start_time": "2020-05-28T17:06:39.473182Z"
    }
   },
   "outputs": [],
   "source": [
    "optimizer = tf.keras.optimizers.Adam()"
   ]
  },
  {
   "cell_type": "code",
   "execution_count": 104,
   "metadata": {
    "ExecuteTime": {
     "end_time": "2020-05-28T17:08:09.008585Z",
     "start_time": "2020-05-28T17:06:59.202054Z"
    }
   },
   "outputs": [
    {
     "name": "stdout",
     "output_type": "stream",
     "text": [
      "1257.1917\n",
      "62.978363\n",
      "47.13692\n",
      "46.475338\n",
      "45.52727\n",
      "44.29396\n",
      "42.788456\n",
      "41.07189\n",
      "39.83368\n",
      "39.655567\n",
      "39.653954\n"
     ]
    }
   ],
   "source": [
    "for i in range(10001):\n",
    "    optimizer.minimize(lambda: nn_loss_function(b1,w1,b2,w2,b3,w3), var_list = [b1,w1,b2,w2,b3,w3])\n",
    "    if i%1000 ==0:\n",
    "        print(nn_loss_function(b1,w1,b2,w2,b3,w3).numpy())"
   ]
  },
  {
   "cell_type": "markdown",
   "metadata": {},
   "source": [
    "# Keras Sequential Model "
   ]
  },
  {
   "cell_type": "code",
   "execution_count": 105,
   "metadata": {
    "ExecuteTime": {
     "end_time": "2020-05-28T17:08:09.017399Z",
     "start_time": "2020-05-28T17:08:09.009637Z"
    }
   },
   "outputs": [],
   "source": [
    "import keras"
   ]
  },
  {
   "cell_type": "code",
   "execution_count": 107,
   "metadata": {
    "ExecuteTime": {
     "end_time": "2020-05-28T17:15:27.318004Z",
     "start_time": "2020-05-28T17:15:27.307246Z"
    }
   },
   "outputs": [],
   "source": [
    "def keras_model(optimizer = \"Adam\", loss_function = \"mean_squared_error\"):\n",
    "    model = keras.models.Sequential()\n",
    "    #First Layer\n",
    "    model.add(keras.layers.Dense(3, name = \"fc1\", input_shape = (2,)))\n",
    "    model.add(keras.layers.BatchNormalization(name = \"bn1\"))\n",
    "    model.add(keras.layers.Activation(\"relu\", name = \"ac1\"))\n",
    "    #Second Layer\n",
    "    model.add(keras.layers.Dense(3,name =\"fc2\"))\n",
    "    model.add(keras.layers.BatchNormalization(name = \"bn2\"))\n",
    "    model.add(keras.layers.Activation(\"relu\", name = \"ac2\"))\n",
    "    #Output layer\n",
    "    model.add(keras.layers.Dense(1, name = \"output\"))\n",
    "    #Compile\n",
    "    model.compile(optimizer, loss = loss_function)\n",
    "    return model"
   ]
  },
  {
   "cell_type": "code",
   "execution_count": 108,
   "metadata": {
    "ExecuteTime": {
     "end_time": "2020-05-28T17:15:51.460027Z",
     "start_time": "2020-05-28T17:15:51.325552Z"
    }
   },
   "outputs": [],
   "source": [
    "model = keras_model()"
   ]
  },
  {
   "cell_type": "code",
   "execution_count": 113,
   "metadata": {
    "ExecuteTime": {
     "end_time": "2020-05-28T17:17:52.630973Z",
     "start_time": "2020-05-28T17:17:14.586940Z"
    }
   },
   "outputs": [
    {
     "name": "stdout",
     "output_type": "stream",
     "text": [
      "Epoch 1/1000\n",
      "506/506 [==============================] - 0s 61us/step - loss: 93.6637\n",
      "Epoch 2/1000\n",
      "506/506 [==============================] - 0s 40us/step - loss: 90.7585\n",
      "Epoch 3/1000\n",
      "506/506 [==============================] - 0s 46us/step - loss: 91.5350\n",
      "Epoch 4/1000\n",
      "506/506 [==============================] - 0s 46us/step - loss: 90.6375\n",
      "Epoch 5/1000\n",
      "506/506 [==============================] - 0s 44us/step - loss: 86.1570\n",
      "Epoch 6/1000\n",
      "506/506 [==============================] - 0s 51us/step - loss: 86.1081\n",
      "Epoch 7/1000\n",
      "506/506 [==============================] - 0s 47us/step - loss: 86.8260\n",
      "Epoch 8/1000\n",
      "506/506 [==============================] - 0s 39us/step - loss: 81.1758\n",
      "Epoch 9/1000\n",
      "506/506 [==============================] - 0s 42us/step - loss: 86.6736\n",
      "Epoch 10/1000\n",
      "506/506 [==============================] - 0s 34us/step - loss: 80.4177\n",
      "Epoch 11/1000\n",
      "506/506 [==============================] - 0s 39us/step - loss: 87.2206\n",
      "Epoch 12/1000\n",
      "506/506 [==============================] - 0s 53us/step - loss: 79.6442\n",
      "Epoch 13/1000\n",
      "506/506 [==============================] - 0s 44us/step - loss: 84.7078\n",
      "Epoch 14/1000\n",
      "506/506 [==============================] - 0s 45us/step - loss: 85.7118\n",
      "Epoch 15/1000\n",
      "506/506 [==============================] - 0s 41us/step - loss: 80.2347\n",
      "Epoch 16/1000\n",
      "506/506 [==============================] - 0s 46us/step - loss: 76.6187\n",
      "Epoch 17/1000\n",
      "506/506 [==============================] - 0s 47us/step - loss: 76.5466\n",
      "Epoch 18/1000\n",
      "506/506 [==============================] - 0s 49us/step - loss: 76.1303\n",
      "Epoch 19/1000\n",
      "506/506 [==============================] - 0s 47us/step - loss: 74.0547\n",
      "Epoch 20/1000\n",
      "506/506 [==============================] - 0s 51us/step - loss: 72.6254\n",
      "Epoch 21/1000\n",
      "506/506 [==============================] - 0s 46us/step - loss: 77.4186\n",
      "Epoch 22/1000\n",
      "506/506 [==============================] - 0s 41us/step - loss: 69.6378\n",
      "Epoch 23/1000\n",
      "506/506 [==============================] - 0s 37us/step - loss: 67.9824\n",
      "Epoch 24/1000\n",
      "506/506 [==============================] - 0s 44us/step - loss: 73.1279\n",
      "Epoch 25/1000\n",
      "506/506 [==============================] - 0s 46us/step - loss: 71.3123\n",
      "Epoch 26/1000\n",
      "506/506 [==============================] - 0s 46us/step - loss: 67.0413\n",
      "Epoch 27/1000\n",
      "506/506 [==============================] - 0s 43us/step - loss: 69.4941\n",
      "Epoch 28/1000\n",
      "506/506 [==============================] - 0s 39us/step - loss: 70.1910\n",
      "Epoch 29/1000\n",
      "506/506 [==============================] - 0s 41us/step - loss: 66.4845\n",
      "Epoch 30/1000\n",
      "506/506 [==============================] - 0s 41us/step - loss: 66.9385\n",
      "Epoch 31/1000\n",
      "506/506 [==============================] - 0s 44us/step - loss: 65.7857\n",
      "Epoch 32/1000\n",
      "506/506 [==============================] - 0s 44us/step - loss: 65.1010\n",
      "Epoch 33/1000\n",
      "506/506 [==============================] - 0s 39us/step - loss: 64.9255\n",
      "Epoch 34/1000\n",
      "506/506 [==============================] - 0s 37us/step - loss: 64.8515\n",
      "Epoch 35/1000\n",
      "506/506 [==============================] - 0s 42us/step - loss: 67.5147\n",
      "Epoch 36/1000\n",
      "506/506 [==============================] - 0s 45us/step - loss: 62.2391\n",
      "Epoch 37/1000\n",
      "506/506 [==============================] - 0s 45us/step - loss: 63.4797\n",
      "Epoch 38/1000\n",
      "506/506 [==============================] - 0s 49us/step - loss: 66.7985\n",
      "Epoch 39/1000\n",
      "506/506 [==============================] - 0s 41us/step - loss: 61.4463\n",
      "Epoch 40/1000\n",
      "506/506 [==============================] - 0s 44us/step - loss: 66.9957\n",
      "Epoch 41/1000\n",
      "506/506 [==============================] - 0s 46us/step - loss: 67.4590\n",
      "Epoch 42/1000\n",
      "506/506 [==============================] - 0s 44us/step - loss: 77.3163\n",
      "Epoch 43/1000\n",
      "506/506 [==============================] - 0s 48us/step - loss: 76.4273\n",
      "Epoch 44/1000\n",
      "506/506 [==============================] - 0s 47us/step - loss: 61.9575\n",
      "Epoch 45/1000\n",
      "506/506 [==============================] - 0s 45us/step - loss: 66.6861\n",
      "Epoch 46/1000\n",
      "506/506 [==============================] - 0s 47us/step - loss: 61.2800\n",
      "Epoch 47/1000\n",
      "506/506 [==============================] - 0s 46us/step - loss: 61.3189\n",
      "Epoch 48/1000\n",
      "506/506 [==============================] - 0s 47us/step - loss: 59.9009\n",
      "Epoch 49/1000\n",
      "506/506 [==============================] - 0s 58us/step - loss: 63.8910\n",
      "Epoch 50/1000\n",
      "506/506 [==============================] - 0s 61us/step - loss: 61.8997\n",
      "Epoch 51/1000\n",
      "506/506 [==============================] - 0s 50us/step - loss: 55.4043\n",
      "Epoch 52/1000\n",
      "506/506 [==============================] - 0s 55us/step - loss: 58.3236\n",
      "Epoch 53/1000\n",
      "506/506 [==============================] - 0s 46us/step - loss: 57.1876\n",
      "Epoch 54/1000\n",
      "506/506 [==============================] - 0s 41us/step - loss: 60.0289\n",
      "Epoch 55/1000\n",
      "506/506 [==============================] - 0s 44us/step - loss: 61.5960\n",
      "Epoch 56/1000\n",
      "506/506 [==============================] - 0s 51us/step - loss: 57.7217\n",
      "Epoch 57/1000\n",
      "506/506 [==============================] - 0s 50us/step - loss: 55.5437\n",
      "Epoch 58/1000\n",
      "506/506 [==============================] - 0s 49us/step - loss: 60.3230\n",
      "Epoch 59/1000\n",
      "506/506 [==============================] - 0s 43us/step - loss: 60.7705\n",
      "Epoch 60/1000\n",
      "506/506 [==============================] - 0s 68us/step - loss: 60.0303\n",
      "Epoch 61/1000\n",
      "506/506 [==============================] - 0s 76us/step - loss: 56.5905\n",
      "Epoch 62/1000\n",
      "506/506 [==============================] - 0s 74us/step - loss: 58.4254\n",
      "Epoch 63/1000\n",
      "506/506 [==============================] - 0s 75us/step - loss: 56.4634\n",
      "Epoch 64/1000\n",
      "506/506 [==============================] - 0s 73us/step - loss: 59.0177\n",
      "Epoch 65/1000\n",
      "506/506 [==============================] - 0s 76us/step - loss: 55.8023\n",
      "Epoch 66/1000\n",
      "506/506 [==============================] - 0s 77us/step - loss: 56.4790\n",
      "Epoch 67/1000\n",
      "506/506 [==============================] - 0s 75us/step - loss: 54.7378\n",
      "Epoch 68/1000\n",
      "506/506 [==============================] - 0s 78us/step - loss: 55.3094\n",
      "Epoch 69/1000\n",
      "506/506 [==============================] - 0s 76us/step - loss: 56.2837\n",
      "Epoch 70/1000\n",
      "506/506 [==============================] - 0s 79us/step - loss: 54.2769\n",
      "Epoch 71/1000\n",
      "506/506 [==============================] - 0s 73us/step - loss: 51.6597\n",
      "Epoch 72/1000\n",
      "506/506 [==============================] - 0s 76us/step - loss: 61.1877\n",
      "Epoch 73/1000\n",
      "506/506 [==============================] - 0s 81us/step - loss: 58.0632\n",
      "Epoch 74/1000\n",
      "506/506 [==============================] - 0s 70us/step - loss: 57.4356\n",
      "Epoch 75/1000\n",
      "506/506 [==============================] - 0s 73us/step - loss: 54.2528\n",
      "Epoch 76/1000\n",
      "506/506 [==============================] - 0s 71us/step - loss: 54.6200\n",
      "Epoch 77/1000\n",
      "506/506 [==============================] - 0s 81us/step - loss: 54.1190\n",
      "Epoch 78/1000\n",
      "506/506 [==============================] - 0s 79us/step - loss: 53.4875\n",
      "Epoch 79/1000\n",
      "506/506 [==============================] - 0s 70us/step - loss: 52.9375\n",
      "Epoch 80/1000\n",
      "506/506 [==============================] - 0s 73us/step - loss: 60.6854\n",
      "Epoch 81/1000\n",
      "506/506 [==============================] - 0s 70us/step - loss: 55.7462\n",
      "Epoch 82/1000\n",
      "506/506 [==============================] - 0s 73us/step - loss: 58.6316\n",
      "Epoch 83/1000\n",
      "506/506 [==============================] - 0s 70us/step - loss: 53.3836\n",
      "Epoch 84/1000\n",
      "506/506 [==============================] - 0s 71us/step - loss: 53.4921\n",
      "Epoch 85/1000\n",
      "506/506 [==============================] - 0s 81us/step - loss: 58.9226\n",
      "Epoch 86/1000\n",
      "506/506 [==============================] - 0s 67us/step - loss: 53.8687\n",
      "Epoch 87/1000\n",
      "506/506 [==============================] - 0s 76us/step - loss: 58.5197\n",
      "Epoch 88/1000\n",
      "506/506 [==============================] - 0s 69us/step - loss: 63.3605\n",
      "Epoch 89/1000\n",
      "506/506 [==============================] - 0s 66us/step - loss: 54.4556\n",
      "Epoch 90/1000\n",
      "506/506 [==============================] - 0s 78us/step - loss: 55.9589\n",
      "Epoch 91/1000\n",
      "506/506 [==============================] - 0s 79us/step - loss: 56.2821\n",
      "Epoch 92/1000\n",
      "506/506 [==============================] - 0s 75us/step - loss: 52.7829\n",
      "Epoch 93/1000\n",
      "506/506 [==============================] - 0s 77us/step - loss: 51.2063\n",
      "Epoch 94/1000\n",
      "506/506 [==============================] - 0s 77us/step - loss: 52.6748\n",
      "Epoch 95/1000\n",
      "506/506 [==============================] - 0s 75us/step - loss: 51.4407\n",
      "Epoch 96/1000\n"
     ]
    },
    {
     "name": "stdout",
     "output_type": "stream",
     "text": [
      "506/506 [==============================] - 0s 76us/step - loss: 58.4367\n",
      "Epoch 97/1000\n",
      "506/506 [==============================] - 0s 78us/step - loss: 53.5382\n",
      "Epoch 98/1000\n",
      "506/506 [==============================] - 0s 83us/step - loss: 53.6550\n",
      "Epoch 99/1000\n",
      "506/506 [==============================] - 0s 80us/step - loss: 54.0793\n",
      "Epoch 100/1000\n",
      "506/506 [==============================] - 0s 80us/step - loss: 53.0523\n",
      "Epoch 101/1000\n",
      "506/506 [==============================] - 0s 81us/step - loss: 56.7359\n",
      "Epoch 102/1000\n",
      "506/506 [==============================] - 0s 81us/step - loss: 51.8101\n",
      "Epoch 103/1000\n",
      "506/506 [==============================] - 0s 76us/step - loss: 51.0626\n",
      "Epoch 104/1000\n",
      "506/506 [==============================] - 0s 83us/step - loss: 53.6494\n",
      "Epoch 105/1000\n",
      "506/506 [==============================] - 0s 77us/step - loss: 55.8348\n",
      "Epoch 106/1000\n",
      "506/506 [==============================] - 0s 77us/step - loss: 48.8497\n",
      "Epoch 107/1000\n",
      "506/506 [==============================] - 0s 78us/step - loss: 57.1953\n",
      "Epoch 108/1000\n",
      "506/506 [==============================] - 0s 77us/step - loss: 54.4539\n",
      "Epoch 109/1000\n",
      "506/506 [==============================] - 0s 71us/step - loss: 51.4434\n",
      "Epoch 110/1000\n",
      "506/506 [==============================] - 0s 71us/step - loss: 52.4734\n",
      "Epoch 111/1000\n",
      "506/506 [==============================] - 0s 74us/step - loss: 51.2238\n",
      "Epoch 112/1000\n",
      "506/506 [==============================] - 0s 72us/step - loss: 53.7379\n",
      "Epoch 113/1000\n",
      "506/506 [==============================] - 0s 72us/step - loss: 55.1714\n",
      "Epoch 114/1000\n",
      "506/506 [==============================] - 0s 73us/step - loss: 49.1977\n",
      "Epoch 115/1000\n",
      "506/506 [==============================] - 0s 74us/step - loss: 58.5179\n",
      "Epoch 116/1000\n",
      "506/506 [==============================] - 0s 72us/step - loss: 55.6944\n",
      "Epoch 117/1000\n",
      "506/506 [==============================] - 0s 69us/step - loss: 51.1795\n",
      "Epoch 118/1000\n",
      "506/506 [==============================] - 0s 75us/step - loss: 47.2651\n",
      "Epoch 119/1000\n",
      "506/506 [==============================] - 0s 73us/step - loss: 56.7259\n",
      "Epoch 120/1000\n",
      "506/506 [==============================] - 0s 73us/step - loss: 53.0043\n",
      "Epoch 121/1000\n",
      "506/506 [==============================] - 0s 65us/step - loss: 46.4742\n",
      "Epoch 122/1000\n",
      "506/506 [==============================] - 0s 73us/step - loss: 50.8033\n",
      "Epoch 123/1000\n",
      "506/506 [==============================] - 0s 72us/step - loss: 54.6963\n",
      "Epoch 124/1000\n",
      "506/506 [==============================] - 0s 77us/step - loss: 57.7412\n",
      "Epoch 125/1000\n",
      "506/506 [==============================] - 0s 77us/step - loss: 51.6936\n",
      "Epoch 126/1000\n",
      "506/506 [==============================] - 0s 71us/step - loss: 54.1874\n",
      "Epoch 127/1000\n",
      "506/506 [==============================] - 0s 72us/step - loss: 51.7492\n",
      "Epoch 128/1000\n",
      "506/506 [==============================] - 0s 74us/step - loss: 56.0599\n",
      "Epoch 129/1000\n",
      "506/506 [==============================] - 0s 67us/step - loss: 54.1343\n",
      "Epoch 130/1000\n",
      "506/506 [==============================] - 0s 72us/step - loss: 51.9221\n",
      "Epoch 131/1000\n",
      "506/506 [==============================] - 0s 80us/step - loss: 49.1939\n",
      "Epoch 132/1000\n",
      "506/506 [==============================] - 0s 74us/step - loss: 54.1488\n",
      "Epoch 133/1000\n",
      "506/506 [==============================] - 0s 74us/step - loss: 54.6866\n",
      "Epoch 134/1000\n",
      "506/506 [==============================] - 0s 73us/step - loss: 51.4714\n",
      "Epoch 135/1000\n",
      "506/506 [==============================] - 0s 75us/step - loss: 61.2106\n",
      "Epoch 136/1000\n",
      "506/506 [==============================] - 0s 77us/step - loss: 59.4334\n",
      "Epoch 137/1000\n",
      "506/506 [==============================] - 0s 73us/step - loss: 54.9483\n",
      "Epoch 138/1000\n",
      "506/506 [==============================] - 0s 74us/step - loss: 52.7217\n",
      "Epoch 139/1000\n",
      "506/506 [==============================] - 0s 73us/step - loss: 53.0086\n",
      "Epoch 140/1000\n",
      "506/506 [==============================] - 0s 75us/step - loss: 54.3921\n",
      "Epoch 141/1000\n",
      "506/506 [==============================] - 0s 77us/step - loss: 50.5078\n",
      "Epoch 142/1000\n",
      "506/506 [==============================] - 0s 75us/step - loss: 62.3895\n",
      "Epoch 143/1000\n",
      "506/506 [==============================] - 0s 87us/step - loss: 54.5683\n",
      "Epoch 144/1000\n",
      "506/506 [==============================] - 0s 81us/step - loss: 48.3691\n",
      "Epoch 145/1000\n",
      "506/506 [==============================] - 0s 81us/step - loss: 51.5717\n",
      "Epoch 146/1000\n",
      "506/506 [==============================] - 0s 83us/step - loss: 53.2039\n",
      "Epoch 147/1000\n",
      "506/506 [==============================] - 0s 73us/step - loss: 54.2751\n",
      "Epoch 148/1000\n",
      "506/506 [==============================] - 0s 76us/step - loss: 52.5245\n",
      "Epoch 149/1000\n",
      "506/506 [==============================] - 0s 78us/step - loss: 61.7415\n",
      "Epoch 150/1000\n",
      "506/506 [==============================] - 0s 73us/step - loss: 54.3016\n",
      "Epoch 151/1000\n",
      "506/506 [==============================] - 0s 76us/step - loss: 54.7718\n",
      "Epoch 152/1000\n",
      "506/506 [==============================] - 0s 71us/step - loss: 51.1109\n",
      "Epoch 153/1000\n",
      "506/506 [==============================] - 0s 70us/step - loss: 54.7220\n",
      "Epoch 154/1000\n",
      "506/506 [==============================] - 0s 76us/step - loss: 51.2115\n",
      "Epoch 155/1000\n",
      "506/506 [==============================] - 0s 75us/step - loss: 53.7441\n",
      "Epoch 156/1000\n",
      "506/506 [==============================] - 0s 75us/step - loss: 48.9504\n",
      "Epoch 157/1000\n",
      "506/506 [==============================] - 0s 69us/step - loss: 56.8648\n",
      "Epoch 158/1000\n",
      "506/506 [==============================] - 0s 72us/step - loss: 54.4582\n",
      "Epoch 159/1000\n",
      "506/506 [==============================] - 0s 105us/step - loss: 54.3650\n",
      "Epoch 160/1000\n",
      "506/506 [==============================] - 0s 62us/step - loss: 50.5108\n",
      "Epoch 161/1000\n",
      "506/506 [==============================] - 0s 36us/step - loss: 55.5627\n",
      "Epoch 162/1000\n",
      "506/506 [==============================] - 0s 41us/step - loss: 55.6553\n",
      "Epoch 163/1000\n",
      "506/506 [==============================] - 0s 43us/step - loss: 50.4252\n",
      "Epoch 164/1000\n",
      "506/506 [==============================] - 0s 41us/step - loss: 55.9760\n",
      "Epoch 165/1000\n",
      "506/506 [==============================] - 0s 39us/step - loss: 50.7308\n",
      "Epoch 166/1000\n",
      "506/506 [==============================] - 0s 39us/step - loss: 49.1509\n",
      "Epoch 167/1000\n",
      "506/506 [==============================] - 0s 43us/step - loss: 49.8903\n",
      "Epoch 168/1000\n",
      "506/506 [==============================] - 0s 41us/step - loss: 53.3331\n",
      "Epoch 169/1000\n",
      "506/506 [==============================] - 0s 34us/step - loss: 51.5258\n",
      "Epoch 170/1000\n",
      "506/506 [==============================] - 0s 44us/step - loss: 54.8404\n",
      "Epoch 171/1000\n",
      "506/506 [==============================] - 0s 57us/step - loss: 53.7758\n",
      "Epoch 172/1000\n",
      "506/506 [==============================] - 0s 73us/step - loss: 51.7402\n",
      "Epoch 173/1000\n",
      "506/506 [==============================] - 0s 68us/step - loss: 51.4117\n",
      "Epoch 174/1000\n",
      "506/506 [==============================] - 0s 72us/step - loss: 51.2484\n",
      "Epoch 175/1000\n",
      "506/506 [==============================] - 0s 73us/step - loss: 50.9768\n",
      "Epoch 176/1000\n",
      "506/506 [==============================] - 0s 72us/step - loss: 55.2703\n",
      "Epoch 177/1000\n",
      "506/506 [==============================] - 0s 74us/step - loss: 50.1430\n",
      "Epoch 178/1000\n",
      "506/506 [==============================] - 0s 70us/step - loss: 53.0034\n",
      "Epoch 179/1000\n",
      "506/506 [==============================] - 0s 76us/step - loss: 47.6051\n",
      "Epoch 180/1000\n",
      "506/506 [==============================] - 0s 69us/step - loss: 48.1072\n",
      "Epoch 181/1000\n",
      "506/506 [==============================] - 0s 73us/step - loss: 56.0514\n",
      "Epoch 182/1000\n",
      "506/506 [==============================] - 0s 68us/step - loss: 60.1195\n",
      "Epoch 183/1000\n",
      "506/506 [==============================] - 0s 77us/step - loss: 58.0547\n",
      "Epoch 184/1000\n",
      "506/506 [==============================] - 0s 75us/step - loss: 52.9270\n",
      "Epoch 185/1000\n",
      "506/506 [==============================] - 0s 72us/step - loss: 53.4718\n",
      "Epoch 186/1000\n",
      "506/506 [==============================] - 0s 70us/step - loss: 52.1340\n",
      "Epoch 187/1000\n",
      "506/506 [==============================] - 0s 82us/step - loss: 51.1055\n",
      "Epoch 188/1000\n",
      "506/506 [==============================] - 0s 73us/step - loss: 51.9499\n",
      "Epoch 189/1000\n",
      "506/506 [==============================] - 0s 81us/step - loss: 48.4656\n",
      "Epoch 190/1000\n"
     ]
    },
    {
     "name": "stdout",
     "output_type": "stream",
     "text": [
      "506/506 [==============================] - 0s 75us/step - loss: 51.0550\n",
      "Epoch 191/1000\n",
      "506/506 [==============================] - 0s 78us/step - loss: 46.7452\n",
      "Epoch 192/1000\n",
      "506/506 [==============================] - 0s 74us/step - loss: 51.9514\n",
      "Epoch 193/1000\n",
      "506/506 [==============================] - 0s 76us/step - loss: 53.7156\n",
      "Epoch 194/1000\n",
      "506/506 [==============================] - 0s 72us/step - loss: 51.6974\n",
      "Epoch 195/1000\n",
      "506/506 [==============================] - 0s 73us/step - loss: 51.4363\n",
      "Epoch 196/1000\n",
      "506/506 [==============================] - 0s 77us/step - loss: 51.5197\n",
      "Epoch 197/1000\n",
      "506/506 [==============================] - 0s 74us/step - loss: 52.3735\n",
      "Epoch 198/1000\n",
      "506/506 [==============================] - 0s 79us/step - loss: 50.3619\n",
      "Epoch 199/1000\n",
      "506/506 [==============================] - 0s 74us/step - loss: 48.0648\n",
      "Epoch 200/1000\n",
      "506/506 [==============================] - 0s 71us/step - loss: 55.9641\n",
      "Epoch 201/1000\n",
      "506/506 [==============================] - 0s 73us/step - loss: 49.0080\n",
      "Epoch 202/1000\n",
      "506/506 [==============================] - 0s 73us/step - loss: 50.3807\n",
      "Epoch 203/1000\n",
      "506/506 [==============================] - 0s 70us/step - loss: 59.6629\n",
      "Epoch 204/1000\n",
      "506/506 [==============================] - 0s 78us/step - loss: 52.9938\n",
      "Epoch 205/1000\n",
      "506/506 [==============================] - 0s 65us/step - loss: 50.2888\n",
      "Epoch 206/1000\n",
      "506/506 [==============================] - 0s 74us/step - loss: 49.3418\n",
      "Epoch 207/1000\n",
      "506/506 [==============================] - 0s 74us/step - loss: 53.3301\n",
      "Epoch 208/1000\n",
      "506/506 [==============================] - 0s 75us/step - loss: 48.9381\n",
      "Epoch 209/1000\n",
      "506/506 [==============================] - 0s 76us/step - loss: 49.7007\n",
      "Epoch 210/1000\n",
      "506/506 [==============================] - 0s 75us/step - loss: 57.6056\n",
      "Epoch 211/1000\n",
      "506/506 [==============================] - 0s 75us/step - loss: 50.9762\n",
      "Epoch 212/1000\n",
      "506/506 [==============================] - 0s 73us/step - loss: 49.5383\n",
      "Epoch 213/1000\n",
      "506/506 [==============================] - 0s 73us/step - loss: 48.9939\n",
      "Epoch 214/1000\n",
      "506/506 [==============================] - 0s 76us/step - loss: 47.9312\n",
      "Epoch 215/1000\n",
      "506/506 [==============================] - 0s 72us/step - loss: 51.2298\n",
      "Epoch 216/1000\n",
      "506/506 [==============================] - 0s 71us/step - loss: 50.2814\n",
      "Epoch 217/1000\n",
      "506/506 [==============================] - 0s 72us/step - loss: 49.7928\n",
      "Epoch 218/1000\n",
      "506/506 [==============================] - 0s 73us/step - loss: 53.1199\n",
      "Epoch 219/1000\n",
      "506/506 [==============================] - 0s 73us/step - loss: 49.7758\n",
      "Epoch 220/1000\n",
      "506/506 [==============================] - 0s 78us/step - loss: 49.9203\n",
      "Epoch 221/1000\n",
      "506/506 [==============================] - 0s 76us/step - loss: 47.9035\n",
      "Epoch 222/1000\n",
      "506/506 [==============================] - 0s 75us/step - loss: 51.6389\n",
      "Epoch 223/1000\n",
      "506/506 [==============================] - 0s 81us/step - loss: 50.4443\n",
      "Epoch 224/1000\n",
      "506/506 [==============================] - 0s 72us/step - loss: 51.6346\n",
      "Epoch 225/1000\n",
      "506/506 [==============================] - 0s 77us/step - loss: 53.3627\n",
      "Epoch 226/1000\n",
      "506/506 [==============================] - 0s 73us/step - loss: 52.1954\n",
      "Epoch 227/1000\n",
      "506/506 [==============================] - 0s 74us/step - loss: 52.2484\n",
      "Epoch 228/1000\n",
      "506/506 [==============================] - 0s 80us/step - loss: 52.1575\n",
      "Epoch 229/1000\n",
      "506/506 [==============================] - 0s 76us/step - loss: 48.1969\n",
      "Epoch 230/1000\n",
      "506/506 [==============================] - 0s 77us/step - loss: 53.4072\n",
      "Epoch 231/1000\n",
      "506/506 [==============================] - 0s 81us/step - loss: 47.5080\n",
      "Epoch 232/1000\n",
      "506/506 [==============================] - 0s 77us/step - loss: 47.4692\n",
      "Epoch 233/1000\n",
      "506/506 [==============================] - 0s 76us/step - loss: 50.7654\n",
      "Epoch 234/1000\n",
      "506/506 [==============================] - 0s 75us/step - loss: 50.2384\n",
      "Epoch 235/1000\n",
      "506/506 [==============================] - 0s 76us/step - loss: 53.1696\n",
      "Epoch 236/1000\n",
      "506/506 [==============================] - 0s 76us/step - loss: 47.2402\n",
      "Epoch 237/1000\n",
      "506/506 [==============================] - 0s 77us/step - loss: 55.4526\n",
      "Epoch 238/1000\n",
      "506/506 [==============================] - 0s 78us/step - loss: 49.5234\n",
      "Epoch 239/1000\n",
      "506/506 [==============================] - 0s 70us/step - loss: 50.1206\n",
      "Epoch 240/1000\n",
      "506/506 [==============================] - 0s 68us/step - loss: 50.4650\n",
      "Epoch 241/1000\n",
      "506/506 [==============================] - 0s 70us/step - loss: 48.1107\n",
      "Epoch 242/1000\n",
      "506/506 [==============================] - 0s 70us/step - loss: 46.6076\n",
      "Epoch 243/1000\n",
      "506/506 [==============================] - 0s 68us/step - loss: 47.8373\n",
      "Epoch 244/1000\n",
      "506/506 [==============================] - 0s 72us/step - loss: 48.9187\n",
      "Epoch 245/1000\n",
      "506/506 [==============================] - 0s 74us/step - loss: 47.7229\n",
      "Epoch 246/1000\n",
      "506/506 [==============================] - 0s 74us/step - loss: 52.0671\n",
      "Epoch 247/1000\n",
      "506/506 [==============================] - 0s 75us/step - loss: 50.2128\n",
      "Epoch 248/1000\n",
      "506/506 [==============================] - 0s 70us/step - loss: 48.2056\n",
      "Epoch 249/1000\n",
      "506/506 [==============================] - 0s 71us/step - loss: 52.7535\n",
      "Epoch 250/1000\n",
      "506/506 [==============================] - 0s 72us/step - loss: 45.1855\n",
      "Epoch 251/1000\n",
      "506/506 [==============================] - 0s 73us/step - loss: 48.6728\n",
      "Epoch 252/1000\n",
      "506/506 [==============================] - 0s 73us/step - loss: 51.5144\n",
      "Epoch 253/1000\n",
      "506/506 [==============================] - 0s 70us/step - loss: 48.8548\n",
      "Epoch 254/1000\n",
      "506/506 [==============================] - 0s 75us/step - loss: 50.7346\n",
      "Epoch 255/1000\n",
      "506/506 [==============================] - 0s 74us/step - loss: 46.2684\n",
      "Epoch 256/1000\n",
      "506/506 [==============================] - 0s 73us/step - loss: 48.3185\n",
      "Epoch 257/1000\n",
      "506/506 [==============================] - 0s 68us/step - loss: 45.3912\n",
      "Epoch 258/1000\n",
      "506/506 [==============================] - 0s 72us/step - loss: 47.4026\n",
      "Epoch 259/1000\n",
      "506/506 [==============================] - 0s 73us/step - loss: 48.2754\n",
      "Epoch 260/1000\n",
      "506/506 [==============================] - 0s 74us/step - loss: 53.7617\n",
      "Epoch 261/1000\n",
      "506/506 [==============================] - 0s 74us/step - loss: 50.0239\n",
      "Epoch 262/1000\n",
      "506/506 [==============================] - 0s 68us/step - loss: 51.7773\n",
      "Epoch 263/1000\n",
      "506/506 [==============================] - 0s 73us/step - loss: 46.7686\n",
      "Epoch 264/1000\n",
      "506/506 [==============================] - 0s 88us/step - loss: 47.7021\n",
      "Epoch 265/1000\n",
      "506/506 [==============================] - 0s 74us/step - loss: 47.7949\n",
      "Epoch 266/1000\n",
      "506/506 [==============================] - 0s 71us/step - loss: 51.3195\n",
      "Epoch 267/1000\n",
      "506/506 [==============================] - 0s 68us/step - loss: 47.0519\n",
      "Epoch 268/1000\n",
      "506/506 [==============================] - 0s 73us/step - loss: 46.2721\n",
      "Epoch 269/1000\n",
      "506/506 [==============================] - 0s 70us/step - loss: 48.4852\n",
      "Epoch 270/1000\n",
      "506/506 [==============================] - 0s 70us/step - loss: 49.7712\n",
      "Epoch 271/1000\n",
      "506/506 [==============================] - 0s 85us/step - loss: 45.6142\n",
      "Epoch 272/1000\n",
      "506/506 [==============================] - 0s 75us/step - loss: 49.6847\n",
      "Epoch 273/1000\n",
      "506/506 [==============================] - 0s 78us/step - loss: 46.1984\n",
      "Epoch 274/1000\n",
      "506/506 [==============================] - 0s 76us/step - loss: 49.5052\n",
      "Epoch 275/1000\n",
      "506/506 [==============================] - 0s 75us/step - loss: 52.4430\n",
      "Epoch 276/1000\n",
      "506/506 [==============================] - 0s 73us/step - loss: 47.0395\n",
      "Epoch 277/1000\n",
      "506/506 [==============================] - 0s 74us/step - loss: 48.2075\n",
      "Epoch 278/1000\n",
      "506/506 [==============================] - 0s 71us/step - loss: 48.9383\n",
      "Epoch 279/1000\n",
      "506/506 [==============================] - 0s 76us/step - loss: 49.8554\n",
      "Epoch 280/1000\n",
      "506/506 [==============================] - 0s 79us/step - loss: 51.6043\n",
      "Epoch 281/1000\n",
      "506/506 [==============================] - 0s 69us/step - loss: 50.0554\n",
      "Epoch 282/1000\n",
      "506/506 [==============================] - 0s 58us/step - loss: 48.3518\n",
      "Epoch 283/1000\n",
      "506/506 [==============================] - 0s 68us/step - loss: 47.1261\n",
      "Epoch 284/1000\n"
     ]
    },
    {
     "name": "stdout",
     "output_type": "stream",
     "text": [
      "506/506 [==============================] - 0s 72us/step - loss: 48.8813\n",
      "Epoch 285/1000\n",
      "506/506 [==============================] - 0s 77us/step - loss: 49.2950\n",
      "Epoch 286/1000\n",
      "506/506 [==============================] - 0s 75us/step - loss: 54.2669\n",
      "Epoch 287/1000\n",
      "506/506 [==============================] - 0s 73us/step - loss: 49.1802\n",
      "Epoch 288/1000\n",
      "506/506 [==============================] - 0s 72us/step - loss: 51.3674\n",
      "Epoch 289/1000\n",
      "506/506 [==============================] - 0s 73us/step - loss: 48.4041\n",
      "Epoch 290/1000\n",
      "506/506 [==============================] - 0s 74us/step - loss: 47.4781\n",
      "Epoch 291/1000\n",
      "506/506 [==============================] - 0s 71us/step - loss: 46.1889\n",
      "Epoch 292/1000\n",
      "506/506 [==============================] - 0s 80us/step - loss: 47.0174\n",
      "Epoch 293/1000\n",
      "506/506 [==============================] - 0s 77us/step - loss: 48.4662\n",
      "Epoch 294/1000\n",
      "506/506 [==============================] - 0s 71us/step - loss: 46.3315\n",
      "Epoch 295/1000\n",
      "506/506 [==============================] - 0s 76us/step - loss: 50.3944\n",
      "Epoch 296/1000\n",
      "506/506 [==============================] - 0s 69us/step - loss: 48.7979\n",
      "Epoch 297/1000\n",
      "506/506 [==============================] - 0s 72us/step - loss: 51.6898\n",
      "Epoch 298/1000\n",
      "506/506 [==============================] - 0s 72us/step - loss: 44.1806\n",
      "Epoch 299/1000\n",
      "506/506 [==============================] - 0s 72us/step - loss: 45.4873\n",
      "Epoch 300/1000\n",
      "506/506 [==============================] - 0s 77us/step - loss: 47.5172\n",
      "Epoch 301/1000\n",
      "506/506 [==============================] - 0s 70us/step - loss: 50.8923\n",
      "Epoch 302/1000\n",
      "506/506 [==============================] - 0s 69us/step - loss: 51.8266\n",
      "Epoch 303/1000\n",
      "506/506 [==============================] - 0s 74us/step - loss: 48.5116\n",
      "Epoch 304/1000\n",
      "506/506 [==============================] - 0s 72us/step - loss: 46.4997\n",
      "Epoch 305/1000\n",
      "506/506 [==============================] - 0s 74us/step - loss: 48.2497\n",
      "Epoch 306/1000\n",
      "506/506 [==============================] - 0s 75us/step - loss: 46.9609\n",
      "Epoch 307/1000\n",
      "506/506 [==============================] - 0s 74us/step - loss: 46.9413\n",
      "Epoch 308/1000\n",
      "506/506 [==============================] - 0s 73us/step - loss: 50.2660\n",
      "Epoch 309/1000\n",
      "506/506 [==============================] - 0s 75us/step - loss: 47.1351\n",
      "Epoch 310/1000\n",
      "506/506 [==============================] - 0s 73us/step - loss: 46.5739\n",
      "Epoch 311/1000\n",
      "506/506 [==============================] - 0s 75us/step - loss: 52.3190\n",
      "Epoch 312/1000\n",
      "506/506 [==============================] - 0s 76us/step - loss: 46.9382\n",
      "Epoch 313/1000\n",
      "506/506 [==============================] - 0s 76us/step - loss: 50.1276\n",
      "Epoch 314/1000\n",
      "506/506 [==============================] - 0s 79us/step - loss: 46.3444\n",
      "Epoch 315/1000\n",
      "506/506 [==============================] - 0s 78us/step - loss: 49.2243\n",
      "Epoch 316/1000\n",
      "506/506 [==============================] - 0s 81us/step - loss: 44.0783\n",
      "Epoch 317/1000\n",
      "506/506 [==============================] - 0s 73us/step - loss: 48.7550\n",
      "Epoch 318/1000\n",
      "506/506 [==============================] - 0s 73us/step - loss: 52.7492\n",
      "Epoch 319/1000\n",
      "506/506 [==============================] - 0s 68us/step - loss: 46.0907\n",
      "Epoch 320/1000\n",
      "506/506 [==============================] - 0s 75us/step - loss: 45.1361\n",
      "Epoch 321/1000\n",
      "506/506 [==============================] - 0s 71us/step - loss: 44.5834\n",
      "Epoch 322/1000\n",
      "506/506 [==============================] - 0s 72us/step - loss: 46.1953\n",
      "Epoch 323/1000\n",
      "506/506 [==============================] - 0s 79us/step - loss: 44.6509\n",
      "Epoch 324/1000\n",
      "506/506 [==============================] - 0s 70us/step - loss: 49.2966\n",
      "Epoch 325/1000\n",
      "506/506 [==============================] - 0s 73us/step - loss: 50.5749\n",
      "Epoch 326/1000\n",
      "506/506 [==============================] - 0s 68us/step - loss: 41.7165\n",
      "Epoch 327/1000\n",
      "506/506 [==============================] - 0s 68us/step - loss: 47.1035\n",
      "Epoch 328/1000\n",
      "506/506 [==============================] - 0s 73us/step - loss: 51.7203\n",
      "Epoch 329/1000\n",
      "506/506 [==============================] - 0s 73us/step - loss: 46.4360\n",
      "Epoch 330/1000\n",
      "506/506 [==============================] - 0s 73us/step - loss: 45.2738\n",
      "Epoch 331/1000\n",
      "506/506 [==============================] - 0s 79us/step - loss: 45.3559\n",
      "Epoch 332/1000\n",
      "506/506 [==============================] - 0s 70us/step - loss: 44.7727\n",
      "Epoch 333/1000\n",
      "506/506 [==============================] - 0s 70us/step - loss: 45.2269\n",
      "Epoch 334/1000\n",
      "506/506 [==============================] - 0s 77us/step - loss: 48.4245\n",
      "Epoch 335/1000\n",
      "506/506 [==============================] - 0s 74us/step - loss: 47.0509\n",
      "Epoch 336/1000\n",
      "506/506 [==============================] - 0s 77us/step - loss: 48.1692\n",
      "Epoch 337/1000\n",
      "506/506 [==============================] - 0s 73us/step - loss: 52.0508\n",
      "Epoch 338/1000\n",
      "506/506 [==============================] - 0s 77us/step - loss: 50.9166\n",
      "Epoch 339/1000\n",
      "506/506 [==============================] - 0s 73us/step - loss: 44.9339\n",
      "Epoch 340/1000\n",
      "506/506 [==============================] - 0s 76us/step - loss: 47.7183\n",
      "Epoch 341/1000\n",
      "506/506 [==============================] - 0s 74us/step - loss: 45.3795\n",
      "Epoch 342/1000\n",
      "506/506 [==============================] - 0s 72us/step - loss: 45.9253\n",
      "Epoch 343/1000\n",
      "506/506 [==============================] - 0s 79us/step - loss: 50.3711\n",
      "Epoch 344/1000\n",
      "506/506 [==============================] - 0s 77us/step - loss: 47.0969\n",
      "Epoch 345/1000\n",
      "506/506 [==============================] - 0s 70us/step - loss: 47.2459\n",
      "Epoch 346/1000\n",
      "506/506 [==============================] - 0s 73us/step - loss: 45.1410\n",
      "Epoch 347/1000\n",
      "506/506 [==============================] - 0s 76us/step - loss: 47.7504\n",
      "Epoch 348/1000\n",
      "506/506 [==============================] - 0s 71us/step - loss: 47.0519\n",
      "Epoch 349/1000\n",
      "506/506 [==============================] - 0s 70us/step - loss: 49.7926\n",
      "Epoch 350/1000\n",
      "506/506 [==============================] - 0s 70us/step - loss: 44.4948\n",
      "Epoch 351/1000\n",
      "506/506 [==============================] - 0s 75us/step - loss: 47.1428\n",
      "Epoch 352/1000\n",
      "506/506 [==============================] - 0s 77us/step - loss: 40.9543\n",
      "Epoch 353/1000\n",
      "506/506 [==============================] - 0s 76us/step - loss: 48.0417\n",
      "Epoch 354/1000\n",
      "506/506 [==============================] - 0s 77us/step - loss: 46.4389\n",
      "Epoch 355/1000\n",
      "506/506 [==============================] - 0s 77us/step - loss: 46.7337\n",
      "Epoch 356/1000\n",
      "506/506 [==============================] - 0s 71us/step - loss: 45.8354\n",
      "Epoch 357/1000\n",
      "506/506 [==============================] - 0s 72us/step - loss: 46.6407\n",
      "Epoch 358/1000\n",
      "506/506 [==============================] - 0s 77us/step - loss: 45.4179\n",
      "Epoch 359/1000\n",
      "506/506 [==============================] - 0s 75us/step - loss: 43.2648\n",
      "Epoch 360/1000\n",
      "506/506 [==============================] - 0s 74us/step - loss: 44.8828\n",
      "Epoch 361/1000\n",
      "506/506 [==============================] - 0s 79us/step - loss: 40.0836\n",
      "Epoch 362/1000\n",
      "506/506 [==============================] - 0s 73us/step - loss: 47.1588\n",
      "Epoch 363/1000\n",
      "506/506 [==============================] - 0s 75us/step - loss: 45.7186\n",
      "Epoch 364/1000\n",
      "506/506 [==============================] - 0s 71us/step - loss: 46.0657\n",
      "Epoch 365/1000\n",
      "506/506 [==============================] - 0s 70us/step - loss: 47.0855\n",
      "Epoch 366/1000\n",
      "506/506 [==============================] - 0s 68us/step - loss: 46.3185\n",
      "Epoch 367/1000\n",
      "506/506 [==============================] - 0s 68us/step - loss: 46.5329\n",
      "Epoch 368/1000\n",
      "506/506 [==============================] - 0s 74us/step - loss: 45.9209\n",
      "Epoch 369/1000\n",
      "506/506 [==============================] - 0s 72us/step - loss: 46.2176\n",
      "Epoch 370/1000\n",
      "506/506 [==============================] - 0s 72us/step - loss: 44.8249\n",
      "Epoch 371/1000\n",
      "506/506 [==============================] - 0s 78us/step - loss: 48.1391\n",
      "Epoch 372/1000\n",
      "506/506 [==============================] - 0s 80us/step - loss: 47.5000\n",
      "Epoch 373/1000\n",
      "506/506 [==============================] - 0s 74us/step - loss: 46.8011\n",
      "Epoch 374/1000\n",
      "506/506 [==============================] - 0s 70us/step - loss: 45.8365\n",
      "Epoch 375/1000\n",
      "506/506 [==============================] - 0s 73us/step - loss: 42.8899\n",
      "Epoch 376/1000\n",
      "506/506 [==============================] - 0s 70us/step - loss: 43.4047\n",
      "Epoch 377/1000\n",
      "506/506 [==============================] - 0s 75us/step - loss: 46.3219\n",
      "Epoch 378/1000\n"
     ]
    },
    {
     "name": "stdout",
     "output_type": "stream",
     "text": [
      "506/506 [==============================] - 0s 81us/step - loss: 45.4692\n",
      "Epoch 379/1000\n",
      "506/506 [==============================] - 0s 77us/step - loss: 46.3824\n",
      "Epoch 380/1000\n",
      "506/506 [==============================] - 0s 71us/step - loss: 43.6459\n",
      "Epoch 381/1000\n",
      "506/506 [==============================] - 0s 78us/step - loss: 44.6526\n",
      "Epoch 382/1000\n",
      "506/506 [==============================] - 0s 72us/step - loss: 42.2209\n",
      "Epoch 383/1000\n",
      "506/506 [==============================] - 0s 76us/step - loss: 48.3853\n",
      "Epoch 384/1000\n",
      "506/506 [==============================] - 0s 72us/step - loss: 43.0538\n",
      "Epoch 385/1000\n",
      "506/506 [==============================] - 0s 69us/step - loss: 44.0665\n",
      "Epoch 386/1000\n",
      "506/506 [==============================] - 0s 71us/step - loss: 40.7578\n",
      "Epoch 387/1000\n",
      "506/506 [==============================] - 0s 75us/step - loss: 42.9883\n",
      "Epoch 388/1000\n",
      "506/506 [==============================] - 0s 138us/step - loss: 44.1819\n",
      "Epoch 389/1000\n",
      "506/506 [==============================] - 0s 75us/step - loss: 44.8958\n",
      "Epoch 390/1000\n",
      "506/506 [==============================] - 0s 74us/step - loss: 40.2796\n",
      "Epoch 391/1000\n",
      "506/506 [==============================] - 0s 66us/step - loss: 43.4333\n",
      "Epoch 392/1000\n",
      "506/506 [==============================] - 0s 81us/step - loss: 42.3971\n",
      "Epoch 393/1000\n",
      "506/506 [==============================] - 0s 83us/step - loss: 47.2348\n",
      "Epoch 394/1000\n",
      "506/506 [==============================] - 0s 77us/step - loss: 45.5421\n",
      "Epoch 395/1000\n",
      "506/506 [==============================] - 0s 78us/step - loss: 46.3315\n",
      "Epoch 396/1000\n",
      "506/506 [==============================] - 0s 76us/step - loss: 46.9055\n",
      "Epoch 397/1000\n",
      "506/506 [==============================] - 0s 77us/step - loss: 40.7622\n",
      "Epoch 398/1000\n",
      "506/506 [==============================] - 0s 73us/step - loss: 45.0005\n",
      "Epoch 399/1000\n",
      "506/506 [==============================] - 0s 74us/step - loss: 42.0854\n",
      "Epoch 400/1000\n",
      "506/506 [==============================] - 0s 76us/step - loss: 41.9923\n",
      "Epoch 401/1000\n",
      "506/506 [==============================] - 0s 74us/step - loss: 45.7779\n",
      "Epoch 402/1000\n",
      "506/506 [==============================] - 0s 75us/step - loss: 47.3941\n",
      "Epoch 403/1000\n",
      "506/506 [==============================] - 0s 72us/step - loss: 48.3658\n",
      "Epoch 404/1000\n",
      "506/506 [==============================] - 0s 69us/step - loss: 46.7844\n",
      "Epoch 405/1000\n",
      "506/506 [==============================] - 0s 72us/step - loss: 43.6273\n",
      "Epoch 406/1000\n",
      "506/506 [==============================] - 0s 71us/step - loss: 41.9780\n",
      "Epoch 407/1000\n",
      "506/506 [==============================] - 0s 69us/step - loss: 46.4635\n",
      "Epoch 408/1000\n",
      "506/506 [==============================] - 0s 76us/step - loss: 39.6214\n",
      "Epoch 409/1000\n",
      "506/506 [==============================] - 0s 74us/step - loss: 43.3364\n",
      "Epoch 410/1000\n",
      "506/506 [==============================] - 0s 76us/step - loss: 43.1045\n",
      "Epoch 411/1000\n",
      "506/506 [==============================] - 0s 78us/step - loss: 44.6835\n",
      "Epoch 412/1000\n",
      "506/506 [==============================] - 0s 77us/step - loss: 41.3142\n",
      "Epoch 413/1000\n",
      "506/506 [==============================] - 0s 71us/step - loss: 43.1126\n",
      "Epoch 414/1000\n",
      "506/506 [==============================] - 0s 77us/step - loss: 39.8519\n",
      "Epoch 415/1000\n",
      "506/506 [==============================] - 0s 75us/step - loss: 44.1915\n",
      "Epoch 416/1000\n",
      "506/506 [==============================] - 0s 74us/step - loss: 41.3879\n",
      "Epoch 417/1000\n",
      "506/506 [==============================] - 0s 77us/step - loss: 41.6540\n",
      "Epoch 418/1000\n",
      "506/506 [==============================] - 0s 71us/step - loss: 42.2874\n",
      "Epoch 419/1000\n",
      "506/506 [==============================] - 0s 74us/step - loss: 40.8509\n",
      "Epoch 420/1000\n",
      "506/506 [==============================] - 0s 73us/step - loss: 42.1934\n",
      "Epoch 421/1000\n",
      "506/506 [==============================] - 0s 76us/step - loss: 41.0991\n",
      "Epoch 422/1000\n",
      "506/506 [==============================] - 0s 72us/step - loss: 39.7865\n",
      "Epoch 423/1000\n",
      "506/506 [==============================] - 0s 72us/step - loss: 40.9312\n",
      "Epoch 424/1000\n",
      "506/506 [==============================] - 0s 74us/step - loss: 41.7650\n",
      "Epoch 425/1000\n",
      "506/506 [==============================] - 0s 78us/step - loss: 38.9387\n",
      "Epoch 426/1000\n",
      "506/506 [==============================] - 0s 73us/step - loss: 39.2742\n",
      "Epoch 427/1000\n",
      "506/506 [==============================] - 0s 75us/step - loss: 43.5562\n",
      "Epoch 428/1000\n",
      "506/506 [==============================] - 0s 72us/step - loss: 39.9386\n",
      "Epoch 429/1000\n",
      "506/506 [==============================] - 0s 70us/step - loss: 39.0956\n",
      "Epoch 430/1000\n",
      "506/506 [==============================] - 0s 75us/step - loss: 37.5832\n",
      "Epoch 431/1000\n",
      "506/506 [==============================] - 0s 72us/step - loss: 40.3441\n",
      "Epoch 432/1000\n",
      "506/506 [==============================] - 0s 76us/step - loss: 36.6411\n",
      "Epoch 433/1000\n",
      "506/506 [==============================] - 0s 77us/step - loss: 37.3924\n",
      "Epoch 434/1000\n",
      "506/506 [==============================] - 0s 76us/step - loss: 36.0752\n",
      "Epoch 435/1000\n",
      "506/506 [==============================] - 0s 82us/step - loss: 35.6094\n",
      "Epoch 436/1000\n",
      "506/506 [==============================] - 0s 75us/step - loss: 38.2042\n",
      "Epoch 437/1000\n",
      "506/506 [==============================] - 0s 75us/step - loss: 36.0856\n",
      "Epoch 438/1000\n",
      "506/506 [==============================] - 0s 73us/step - loss: 33.8777\n",
      "Epoch 439/1000\n",
      "506/506 [==============================] - 0s 72us/step - loss: 36.1449\n",
      "Epoch 440/1000\n",
      "506/506 [==============================] - 0s 77us/step - loss: 36.5376\n",
      "Epoch 441/1000\n",
      "506/506 [==============================] - 0s 73us/step - loss: 37.7928\n",
      "Epoch 442/1000\n",
      "506/506 [==============================] - 0s 75us/step - loss: 36.0462\n",
      "Epoch 443/1000\n",
      "506/506 [==============================] - 0s 71us/step - loss: 34.3981\n",
      "Epoch 444/1000\n",
      "506/506 [==============================] - 0s 70us/step - loss: 35.4261\n",
      "Epoch 445/1000\n",
      "506/506 [==============================] - 0s 72us/step - loss: 37.2957\n",
      "Epoch 446/1000\n",
      "506/506 [==============================] - 0s 70us/step - loss: 35.1862\n",
      "Epoch 447/1000\n",
      "506/506 [==============================] - 0s 72us/step - loss: 35.2391\n",
      "Epoch 448/1000\n",
      "506/506 [==============================] - 0s 76us/step - loss: 36.1628\n",
      "Epoch 449/1000\n",
      "506/506 [==============================] - 0s 71us/step - loss: 35.7368\n",
      "Epoch 450/1000\n",
      "506/506 [==============================] - 0s 71us/step - loss: 37.6428\n",
      "Epoch 451/1000\n",
      "506/506 [==============================] - 0s 80us/step - loss: 35.1934\n",
      "Epoch 452/1000\n",
      "506/506 [==============================] - 0s 79us/step - loss: 36.6101\n",
      "Epoch 453/1000\n",
      "506/506 [==============================] - 0s 78us/step - loss: 34.6129\n",
      "Epoch 454/1000\n",
      "506/506 [==============================] - 0s 84us/step - loss: 36.9432\n",
      "Epoch 455/1000\n",
      "506/506 [==============================] - 0s 79us/step - loss: 34.2907\n",
      "Epoch 456/1000\n",
      "506/506 [==============================] - 0s 78us/step - loss: 36.3870\n",
      "Epoch 457/1000\n",
      "506/506 [==============================] - 0s 54us/step - loss: 33.6884\n",
      "Epoch 458/1000\n",
      "506/506 [==============================] - 0s 50us/step - loss: 34.0731\n",
      "Epoch 459/1000\n",
      "506/506 [==============================] - 0s 41us/step - loss: 33.7143\n",
      "Epoch 460/1000\n",
      "506/506 [==============================] - 0s 47us/step - loss: 37.0562\n",
      "Epoch 461/1000\n",
      "506/506 [==============================] - 0s 76us/step - loss: 37.5863\n",
      "Epoch 462/1000\n",
      "506/506 [==============================] - 0s 73us/step - loss: 35.1013\n",
      "Epoch 463/1000\n",
      "506/506 [==============================] - 0s 74us/step - loss: 36.4514\n",
      "Epoch 464/1000\n",
      "506/506 [==============================] - 0s 62us/step - loss: 34.7247\n",
      "Epoch 465/1000\n",
      "506/506 [==============================] - 0s 56us/step - loss: 34.1830\n",
      "Epoch 466/1000\n",
      "506/506 [==============================] - 0s 73us/step - loss: 34.8225\n",
      "Epoch 467/1000\n",
      "506/506 [==============================] - 0s 74us/step - loss: 36.7311\n",
      "Epoch 468/1000\n",
      "506/506 [==============================] - 0s 70us/step - loss: 35.6386\n",
      "Epoch 469/1000\n",
      "506/506 [==============================] - 0s 70us/step - loss: 36.6864\n",
      "Epoch 470/1000\n",
      "506/506 [==============================] - 0s 78us/step - loss: 34.0642\n",
      "Epoch 471/1000\n",
      "506/506 [==============================] - 0s 73us/step - loss: 34.7075\n",
      "Epoch 472/1000\n"
     ]
    },
    {
     "name": "stdout",
     "output_type": "stream",
     "text": [
      "506/506 [==============================] - 0s 69us/step - loss: 36.1867\n",
      "Epoch 473/1000\n",
      "506/506 [==============================] - 0s 73us/step - loss: 37.1312\n",
      "Epoch 474/1000\n",
      "506/506 [==============================] - 0s 73us/step - loss: 35.7732\n",
      "Epoch 475/1000\n",
      "506/506 [==============================] - 0s 75us/step - loss: 35.9921\n",
      "Epoch 476/1000\n",
      "506/506 [==============================] - 0s 75us/step - loss: 35.0510\n",
      "Epoch 477/1000\n",
      "506/506 [==============================] - 0s 72us/step - loss: 36.7449\n",
      "Epoch 478/1000\n",
      "506/506 [==============================] - 0s 132us/step - loss: 38.5551\n",
      "Epoch 479/1000\n",
      "506/506 [==============================] - 0s 71us/step - loss: 35.8564\n",
      "Epoch 480/1000\n",
      "506/506 [==============================] - 0s 75us/step - loss: 34.8544\n",
      "Epoch 481/1000\n",
      "506/506 [==============================] - 0s 71us/step - loss: 34.3412\n",
      "Epoch 482/1000\n",
      "506/506 [==============================] - 0s 78us/step - loss: 37.1394\n",
      "Epoch 483/1000\n",
      "506/506 [==============================] - 0s 72us/step - loss: 36.3252\n",
      "Epoch 484/1000\n",
      "506/506 [==============================] - 0s 76us/step - loss: 35.6878\n",
      "Epoch 485/1000\n",
      "506/506 [==============================] - 0s 72us/step - loss: 35.8785\n",
      "Epoch 486/1000\n",
      "506/506 [==============================] - 0s 78us/step - loss: 34.1496\n",
      "Epoch 487/1000\n",
      "506/506 [==============================] - 0s 83us/step - loss: 36.4862\n",
      "Epoch 488/1000\n",
      "506/506 [==============================] - 0s 77us/step - loss: 37.1189\n",
      "Epoch 489/1000\n",
      "506/506 [==============================] - 0s 78us/step - loss: 38.1520\n",
      "Epoch 490/1000\n",
      "506/506 [==============================] - 0s 77us/step - loss: 36.6305\n",
      "Epoch 491/1000\n",
      "506/506 [==============================] - 0s 77us/step - loss: 37.2160\n",
      "Epoch 492/1000\n",
      "506/506 [==============================] - 0s 76us/step - loss: 37.2858\n",
      "Epoch 493/1000\n",
      "506/506 [==============================] - 0s 76us/step - loss: 36.3701\n",
      "Epoch 494/1000\n",
      "506/506 [==============================] - 0s 73us/step - loss: 37.5724\n",
      "Epoch 495/1000\n",
      "506/506 [==============================] - 0s 76us/step - loss: 36.0891\n",
      "Epoch 496/1000\n",
      "506/506 [==============================] - 0s 72us/step - loss: 35.0857\n",
      "Epoch 497/1000\n",
      "506/506 [==============================] - 0s 74us/step - loss: 34.3096\n",
      "Epoch 498/1000\n",
      "506/506 [==============================] - 0s 71us/step - loss: 37.4217\n",
      "Epoch 499/1000\n",
      "506/506 [==============================] - 0s 77us/step - loss: 36.3245\n",
      "Epoch 500/1000\n",
      "506/506 [==============================] - 0s 72us/step - loss: 34.9955\n",
      "Epoch 501/1000\n",
      "506/506 [==============================] - 0s 71us/step - loss: 33.7193\n",
      "Epoch 502/1000\n",
      "506/506 [==============================] - 0s 76us/step - loss: 34.6392\n",
      "Epoch 503/1000\n",
      "506/506 [==============================] - 0s 74us/step - loss: 35.9564\n",
      "Epoch 504/1000\n",
      "506/506 [==============================] - 0s 77us/step - loss: 35.7105\n",
      "Epoch 505/1000\n",
      "506/506 [==============================] - 0s 75us/step - loss: 36.4926\n",
      "Epoch 506/1000\n",
      "506/506 [==============================] - 0s 75us/step - loss: 34.6751\n",
      "Epoch 507/1000\n",
      "506/506 [==============================] - 0s 79us/step - loss: 38.6296\n",
      "Epoch 508/1000\n",
      "506/506 [==============================] - 0s 73us/step - loss: 35.5877\n",
      "Epoch 509/1000\n",
      "506/506 [==============================] - 0s 79us/step - loss: 38.3439\n",
      "Epoch 510/1000\n",
      "506/506 [==============================] - 0s 75us/step - loss: 37.2076\n",
      "Epoch 511/1000\n",
      "506/506 [==============================] - 0s 74us/step - loss: 34.6699\n",
      "Epoch 512/1000\n",
      "506/506 [==============================] - 0s 76us/step - loss: 33.8489\n",
      "Epoch 513/1000\n",
      "506/506 [==============================] - 0s 75us/step - loss: 36.1319\n",
      "Epoch 514/1000\n",
      "506/506 [==============================] - 0s 72us/step - loss: 36.1225\n",
      "Epoch 515/1000\n",
      "506/506 [==============================] - 0s 73us/step - loss: 36.2613\n",
      "Epoch 516/1000\n",
      "506/506 [==============================] - 0s 77us/step - loss: 35.9398\n",
      "Epoch 517/1000\n",
      "506/506 [==============================] - 0s 70us/step - loss: 35.7460\n",
      "Epoch 518/1000\n",
      "506/506 [==============================] - 0s 73us/step - loss: 37.8248\n",
      "Epoch 519/1000\n",
      "506/506 [==============================] - 0s 74us/step - loss: 36.8152\n",
      "Epoch 520/1000\n",
      "506/506 [==============================] - 0s 85us/step - loss: 35.6128\n",
      "Epoch 521/1000\n",
      "506/506 [==============================] - 0s 79us/step - loss: 36.4285\n",
      "Epoch 522/1000\n",
      "506/506 [==============================] - 0s 73us/step - loss: 37.8013\n",
      "Epoch 523/1000\n",
      "506/506 [==============================] - 0s 73us/step - loss: 34.8130\n",
      "Epoch 524/1000\n",
      "506/506 [==============================] - 0s 75us/step - loss: 34.3933\n",
      "Epoch 525/1000\n",
      "506/506 [==============================] - 0s 82us/step - loss: 36.4372\n",
      "Epoch 526/1000\n",
      "506/506 [==============================] - 0s 80us/step - loss: 38.0689\n",
      "Epoch 527/1000\n",
      "506/506 [==============================] - 0s 79us/step - loss: 39.5779\n",
      "Epoch 528/1000\n",
      "506/506 [==============================] - 0s 74us/step - loss: 35.3995\n",
      "Epoch 529/1000\n",
      "506/506 [==============================] - 0s 78us/step - loss: 34.6651\n",
      "Epoch 530/1000\n",
      "506/506 [==============================] - 0s 79us/step - loss: 35.4037\n",
      "Epoch 531/1000\n",
      "506/506 [==============================] - 0s 80us/step - loss: 33.7980\n",
      "Epoch 532/1000\n",
      "506/506 [==============================] - 0s 68us/step - loss: 36.0221\n",
      "Epoch 533/1000\n",
      "506/506 [==============================] - 0s 67us/step - loss: 36.9289\n",
      "Epoch 534/1000\n",
      "506/506 [==============================] - 0s 72us/step - loss: 36.5497\n",
      "Epoch 535/1000\n",
      "506/506 [==============================] - 0s 71us/step - loss: 35.3985\n",
      "Epoch 536/1000\n",
      "506/506 [==============================] - 0s 78us/step - loss: 33.2644\n",
      "Epoch 537/1000\n",
      "506/506 [==============================] - 0s 73us/step - loss: 36.0583\n",
      "Epoch 538/1000\n",
      "506/506 [==============================] - 0s 77us/step - loss: 35.1410\n",
      "Epoch 539/1000\n",
      "506/506 [==============================] - 0s 72us/step - loss: 34.0491\n",
      "Epoch 540/1000\n",
      "506/506 [==============================] - 0s 75us/step - loss: 34.2086\n",
      "Epoch 541/1000\n",
      "506/506 [==============================] - 0s 70us/step - loss: 35.4264\n",
      "Epoch 542/1000\n",
      "506/506 [==============================] - 0s 70us/step - loss: 36.1542\n",
      "Epoch 543/1000\n",
      "506/506 [==============================] - 0s 72us/step - loss: 35.5795\n",
      "Epoch 544/1000\n",
      "506/506 [==============================] - 0s 71us/step - loss: 38.4060\n",
      "Epoch 545/1000\n",
      "506/506 [==============================] - 0s 71us/step - loss: 37.5330\n",
      "Epoch 546/1000\n",
      "506/506 [==============================] - 0s 73us/step - loss: 37.7427\n",
      "Epoch 547/1000\n",
      "506/506 [==============================] - 0s 71us/step - loss: 35.3177\n",
      "Epoch 548/1000\n",
      "506/506 [==============================] - ETA: 0s - loss: 48.08 - 0s 67us/step - loss: 34.0169\n",
      "Epoch 549/1000\n",
      "506/506 [==============================] - 0s 72us/step - loss: 37.7860\n",
      "Epoch 550/1000\n",
      "506/506 [==============================] - 0s 75us/step - loss: 36.6203\n",
      "Epoch 551/1000\n",
      "506/506 [==============================] - 0s 76us/step - loss: 34.9945\n",
      "Epoch 552/1000\n",
      "506/506 [==============================] - 0s 74us/step - loss: 37.2036\n",
      "Epoch 553/1000\n",
      "506/506 [==============================] - 0s 73us/step - loss: 36.5494\n",
      "Epoch 554/1000\n",
      "506/506 [==============================] - 0s 74us/step - loss: 37.8637\n",
      "Epoch 555/1000\n",
      "506/506 [==============================] - 0s 74us/step - loss: 38.7993\n",
      "Epoch 556/1000\n",
      "506/506 [==============================] - 0s 71us/step - loss: 37.0050\n",
      "Epoch 557/1000\n",
      "506/506 [==============================] - 0s 78us/step - loss: 36.1333\n",
      "Epoch 558/1000\n",
      "506/506 [==============================] - 0s 78us/step - loss: 35.2190\n",
      "Epoch 559/1000\n",
      "506/506 [==============================] - 0s 78us/step - loss: 34.0726\n",
      "Epoch 560/1000\n",
      "506/506 [==============================] - 0s 72us/step - loss: 34.7168\n",
      "Epoch 561/1000\n",
      "506/506 [==============================] - 0s 70us/step - loss: 35.9509\n",
      "Epoch 562/1000\n",
      "506/506 [==============================] - 0s 71us/step - loss: 32.9977\n",
      "Epoch 563/1000\n",
      "506/506 [==============================] - 0s 72us/step - loss: 33.4734\n",
      "Epoch 564/1000\n",
      "506/506 [==============================] - 0s 77us/step - loss: 35.0364\n",
      "Epoch 565/1000\n",
      "506/506 [==============================] - 0s 75us/step - loss: 33.0307\n",
      "Epoch 566/1000\n"
     ]
    },
    {
     "name": "stdout",
     "output_type": "stream",
     "text": [
      "506/506 [==============================] - 0s 72us/step - loss: 34.1747\n",
      "Epoch 567/1000\n",
      "506/506 [==============================] - 0s 79us/step - loss: 36.2530\n",
      "Epoch 568/1000\n",
      "506/506 [==============================] - 0s 81us/step - loss: 34.7201\n",
      "Epoch 569/1000\n",
      "506/506 [==============================] - 0s 80us/step - loss: 36.0131\n",
      "Epoch 570/1000\n",
      "506/506 [==============================] - 0s 73us/step - loss: 38.3536\n",
      "Epoch 571/1000\n",
      "506/506 [==============================] - 0s 75us/step - loss: 35.2547\n",
      "Epoch 572/1000\n",
      "506/506 [==============================] - 0s 80us/step - loss: 35.6715\n",
      "Epoch 573/1000\n",
      "506/506 [==============================] - 0s 80us/step - loss: 35.5033\n",
      "Epoch 574/1000\n",
      "506/506 [==============================] - 0s 69us/step - loss: 34.4206\n",
      "Epoch 575/1000\n",
      "506/506 [==============================] - 0s 72us/step - loss: 36.1116\n",
      "Epoch 576/1000\n",
      "506/506 [==============================] - 0s 73us/step - loss: 37.3790\n",
      "Epoch 577/1000\n",
      "506/506 [==============================] - 0s 75us/step - loss: 34.6815\n",
      "Epoch 578/1000\n",
      "506/506 [==============================] - 0s 73us/step - loss: 36.5970\n",
      "Epoch 579/1000\n",
      "506/506 [==============================] - 0s 74us/step - loss: 35.3989\n",
      "Epoch 580/1000\n",
      "506/506 [==============================] - 0s 72us/step - loss: 36.9671\n",
      "Epoch 581/1000\n",
      "506/506 [==============================] - 0s 75us/step - loss: 34.2960\n",
      "Epoch 582/1000\n",
      "506/506 [==============================] - 0s 79us/step - loss: 35.7121\n",
      "Epoch 583/1000\n",
      "506/506 [==============================] - 0s 73us/step - loss: 34.2454\n",
      "Epoch 584/1000\n",
      "506/506 [==============================] - 0s 72us/step - loss: 37.1571\n",
      "Epoch 585/1000\n",
      "506/506 [==============================] - 0s 65us/step - loss: 37.5061\n",
      "Epoch 586/1000\n",
      "506/506 [==============================] - 0s 70us/step - loss: 35.6533\n",
      "Epoch 587/1000\n",
      "506/506 [==============================] - 0s 79us/step - loss: 34.3498\n",
      "Epoch 588/1000\n",
      "506/506 [==============================] - 0s 78us/step - loss: 35.6385\n",
      "Epoch 589/1000\n",
      "506/506 [==============================] - 0s 76us/step - loss: 35.6535\n",
      "Epoch 590/1000\n",
      "506/506 [==============================] - 0s 76us/step - loss: 34.1615\n",
      "Epoch 591/1000\n",
      "506/506 [==============================] - 0s 75us/step - loss: 34.2438\n",
      "Epoch 592/1000\n",
      "506/506 [==============================] - 0s 76us/step - loss: 37.1111\n",
      "Epoch 593/1000\n",
      "506/506 [==============================] - 0s 76us/step - loss: 36.0699\n",
      "Epoch 594/1000\n",
      "506/506 [==============================] - 0s 74us/step - loss: 35.2088\n",
      "Epoch 595/1000\n",
      "506/506 [==============================] - 0s 77us/step - loss: 33.4093\n",
      "Epoch 596/1000\n",
      "506/506 [==============================] - 0s 71us/step - loss: 34.6102\n",
      "Epoch 597/1000\n",
      "506/506 [==============================] - 0s 77us/step - loss: 36.5319\n",
      "Epoch 598/1000\n",
      "506/506 [==============================] - 0s 76us/step - loss: 37.1970\n",
      "Epoch 599/1000\n",
      "506/506 [==============================] - 0s 73us/step - loss: 35.3599\n",
      "Epoch 600/1000\n",
      "506/506 [==============================] - 0s 74us/step - loss: 38.1052\n",
      "Epoch 601/1000\n",
      "506/506 [==============================] - 0s 72us/step - loss: 34.5128\n",
      "Epoch 602/1000\n",
      "506/506 [==============================] - 0s 76us/step - loss: 35.1115\n",
      "Epoch 603/1000\n",
      "506/506 [==============================] - 0s 70us/step - loss: 35.6509\n",
      "Epoch 604/1000\n",
      "506/506 [==============================] - 0s 78us/step - loss: 35.7704\n",
      "Epoch 605/1000\n",
      "506/506 [==============================] - 0s 73us/step - loss: 36.1301\n",
      "Epoch 606/1000\n",
      "506/506 [==============================] - 0s 76us/step - loss: 34.7582\n",
      "Epoch 607/1000\n",
      "506/506 [==============================] - 0s 74us/step - loss: 34.8413\n",
      "Epoch 608/1000\n",
      "506/506 [==============================] - 0s 72us/step - loss: 36.5635\n",
      "Epoch 609/1000\n",
      "506/506 [==============================] - 0s 74us/step - loss: 41.5739\n",
      "Epoch 610/1000\n",
      "506/506 [==============================] - 0s 72us/step - loss: 35.3263\n",
      "Epoch 611/1000\n",
      "506/506 [==============================] - 0s 77us/step - loss: 36.8171\n",
      "Epoch 612/1000\n",
      "506/506 [==============================] - 0s 78us/step - loss: 36.4789\n",
      "Epoch 613/1000\n",
      "506/506 [==============================] - 0s 82us/step - loss: 37.2533\n",
      "Epoch 614/1000\n",
      "506/506 [==============================] - 0s 76us/step - loss: 36.6847\n",
      "Epoch 615/1000\n",
      "506/506 [==============================] - 0s 78us/step - loss: 36.7584\n",
      "Epoch 616/1000\n",
      "506/506 [==============================] - 0s 77us/step - loss: 34.4768\n",
      "Epoch 617/1000\n",
      "506/506 [==============================] - 0s 75us/step - loss: 38.1774\n",
      "Epoch 618/1000\n",
      "506/506 [==============================] - 0s 72us/step - loss: 34.3071\n",
      "Epoch 619/1000\n",
      "506/506 [==============================] - 0s 70us/step - loss: 38.1278\n",
      "Epoch 620/1000\n",
      "506/506 [==============================] - 0s 80us/step - loss: 35.0364\n",
      "Epoch 621/1000\n",
      "506/506 [==============================] - 0s 75us/step - loss: 36.8009\n",
      "Epoch 622/1000\n",
      "506/506 [==============================] - 0s 75us/step - loss: 34.3414\n",
      "Epoch 623/1000\n",
      "506/506 [==============================] - 0s 74us/step - loss: 35.5184\n",
      "Epoch 624/1000\n",
      "506/506 [==============================] - 0s 75us/step - loss: 37.3995\n",
      "Epoch 625/1000\n",
      "506/506 [==============================] - 0s 68us/step - loss: 34.9760\n",
      "Epoch 626/1000\n",
      "506/506 [==============================] - 0s 69us/step - loss: 35.0825\n",
      "Epoch 627/1000\n",
      "506/506 [==============================] - 0s 74us/step - loss: 37.1368\n",
      "Epoch 628/1000\n",
      "506/506 [==============================] - 0s 73us/step - loss: 38.0894\n",
      "Epoch 629/1000\n",
      "506/506 [==============================] - 0s 71us/step - loss: 35.0712\n",
      "Epoch 630/1000\n",
      "506/506 [==============================] - 0s 75us/step - loss: 37.3609\n",
      "Epoch 631/1000\n",
      "506/506 [==============================] - 0s 73us/step - loss: 37.1734\n",
      "Epoch 632/1000\n",
      "506/506 [==============================] - 0s 70us/step - loss: 35.4471\n",
      "Epoch 633/1000\n",
      "506/506 [==============================] - 0s 74us/step - loss: 34.6976\n",
      "Epoch 634/1000\n",
      "506/506 [==============================] - 0s 65us/step - loss: 34.7952\n",
      "Epoch 635/1000\n",
      "506/506 [==============================] - 0s 75us/step - loss: 35.1419\n",
      "Epoch 636/1000\n",
      "506/506 [==============================] - 0s 71us/step - loss: 36.0559\n",
      "Epoch 637/1000\n",
      "506/506 [==============================] - 0s 72us/step - loss: 34.9099\n",
      "Epoch 638/1000\n",
      "506/506 [==============================] - 0s 72us/step - loss: 34.9420\n",
      "Epoch 639/1000\n",
      "506/506 [==============================] - 0s 74us/step - loss: 34.6080\n",
      "Epoch 640/1000\n",
      "506/506 [==============================] - 0s 75us/step - loss: 36.4342\n",
      "Epoch 641/1000\n",
      "506/506 [==============================] - 0s 68us/step - loss: 33.6869\n",
      "Epoch 642/1000\n",
      "506/506 [==============================] - 0s 73us/step - loss: 35.2905\n",
      "Epoch 643/1000\n",
      "506/506 [==============================] - 0s 65us/step - loss: 36.2696\n",
      "Epoch 644/1000\n",
      "506/506 [==============================] - 0s 76us/step - loss: 36.2304\n",
      "Epoch 645/1000\n",
      "506/506 [==============================] - 0s 74us/step - loss: 33.5895\n",
      "Epoch 646/1000\n",
      "506/506 [==============================] - 0s 73us/step - loss: 36.0522\n",
      "Epoch 647/1000\n",
      "506/506 [==============================] - 0s 78us/step - loss: 37.7326\n",
      "Epoch 648/1000\n",
      "506/506 [==============================] - 0s 72us/step - loss: 35.0675\n",
      "Epoch 649/1000\n",
      "506/506 [==============================] - 0s 77us/step - loss: 34.5784\n",
      "Epoch 650/1000\n",
      "506/506 [==============================] - 0s 72us/step - loss: 35.7503\n",
      "Epoch 651/1000\n",
      "506/506 [==============================] - 0s 71us/step - loss: 35.6883\n",
      "Epoch 652/1000\n",
      "506/506 [==============================] - 0s 80us/step - loss: 36.8556\n",
      "Epoch 653/1000\n",
      "506/506 [==============================] - 0s 71us/step - loss: 34.1640\n",
      "Epoch 654/1000\n",
      "506/506 [==============================] - 0s 68us/step - loss: 36.4097\n",
      "Epoch 655/1000\n",
      "506/506 [==============================] - 0s 75us/step - loss: 35.7092\n",
      "Epoch 656/1000\n",
      "506/506 [==============================] - 0s 76us/step - loss: 36.5337\n",
      "Epoch 657/1000\n",
      "506/506 [==============================] - 0s 73us/step - loss: 37.6999\n",
      "Epoch 658/1000\n",
      "506/506 [==============================] - 0s 76us/step - loss: 35.0391\n",
      "Epoch 659/1000\n",
      "506/506 [==============================] - 0s 74us/step - loss: 37.8829\n",
      "Epoch 660/1000\n"
     ]
    },
    {
     "name": "stdout",
     "output_type": "stream",
     "text": [
      "506/506 [==============================] - 0s 80us/step - loss: 36.0038\n",
      "Epoch 661/1000\n",
      "506/506 [==============================] - 0s 74us/step - loss: 35.6152\n",
      "Epoch 662/1000\n",
      "506/506 [==============================] - 0s 75us/step - loss: 33.8737\n",
      "Epoch 663/1000\n",
      "506/506 [==============================] - 0s 79us/step - loss: 35.8227\n",
      "Epoch 664/1000\n",
      "506/506 [==============================] - 0s 77us/step - loss: 36.5860\n",
      "Epoch 665/1000\n",
      "506/506 [==============================] - 0s 75us/step - loss: 34.3675\n",
      "Epoch 666/1000\n",
      "506/506 [==============================] - 0s 78us/step - loss: 36.0059\n",
      "Epoch 667/1000\n",
      "506/506 [==============================] - 0s 75us/step - loss: 35.5590\n",
      "Epoch 668/1000\n",
      "506/506 [==============================] - 0s 74us/step - loss: 36.1430\n",
      "Epoch 669/1000\n",
      "506/506 [==============================] - 0s 77us/step - loss: 36.9610\n",
      "Epoch 670/1000\n",
      "506/506 [==============================] - 0s 76us/step - loss: 35.6001\n",
      "Epoch 671/1000\n",
      "506/506 [==============================] - 0s 73us/step - loss: 34.9463\n",
      "Epoch 672/1000\n",
      "506/506 [==============================] - 0s 72us/step - loss: 34.0799\n",
      "Epoch 673/1000\n",
      "506/506 [==============================] - 0s 134us/step - loss: 38.2802\n",
      "Epoch 674/1000\n",
      "506/506 [==============================] - 0s 65us/step - loss: 36.5723\n",
      "Epoch 675/1000\n",
      "506/506 [==============================] - 0s 68us/step - loss: 36.1761\n",
      "Epoch 676/1000\n",
      "506/506 [==============================] - 0s 49us/step - loss: 36.2960\n",
      "Epoch 677/1000\n",
      "506/506 [==============================] - 0s 55us/step - loss: 34.7696\n",
      "Epoch 678/1000\n",
      "506/506 [==============================] - 0s 71us/step - loss: 35.7767\n",
      "Epoch 679/1000\n",
      "506/506 [==============================] - 0s 76us/step - loss: 34.9337\n",
      "Epoch 680/1000\n",
      "506/506 [==============================] - 0s 69us/step - loss: 36.1420\n",
      "Epoch 681/1000\n",
      "506/506 [==============================] - 0s 74us/step - loss: 33.4577\n",
      "Epoch 682/1000\n",
      "506/506 [==============================] - 0s 70us/step - loss: 34.3897\n",
      "Epoch 683/1000\n",
      "506/506 [==============================] - 0s 69us/step - loss: 36.9249\n",
      "Epoch 684/1000\n",
      "506/506 [==============================] - 0s 74us/step - loss: 35.3589\n",
      "Epoch 685/1000\n",
      "506/506 [==============================] - 0s 72us/step - loss: 34.8714\n",
      "Epoch 686/1000\n",
      "506/506 [==============================] - 0s 79us/step - loss: 34.3175\n",
      "Epoch 687/1000\n",
      "506/506 [==============================] - 0s 72us/step - loss: 34.3172\n",
      "Epoch 688/1000\n",
      "506/506 [==============================] - 0s 74us/step - loss: 37.1394\n",
      "Epoch 689/1000\n",
      "506/506 [==============================] - 0s 70us/step - loss: 34.8505\n",
      "Epoch 690/1000\n",
      "506/506 [==============================] - 0s 72us/step - loss: 34.8262\n",
      "Epoch 691/1000\n",
      "506/506 [==============================] - 0s 76us/step - loss: 34.6252\n",
      "Epoch 692/1000\n",
      "506/506 [==============================] - 0s 70us/step - loss: 33.9391\n",
      "Epoch 693/1000\n",
      "506/506 [==============================] - 0s 76us/step - loss: 34.9367\n",
      "Epoch 694/1000\n",
      "506/506 [==============================] - 0s 77us/step - loss: 35.0724\n",
      "Epoch 695/1000\n",
      "506/506 [==============================] - 0s 73us/step - loss: 35.2425\n",
      "Epoch 696/1000\n",
      "506/506 [==============================] - 0s 74us/step - loss: 35.0803\n",
      "Epoch 697/1000\n",
      "506/506 [==============================] - 0s 74us/step - loss: 34.7616\n",
      "Epoch 698/1000\n",
      "506/506 [==============================] - 0s 75us/step - loss: 37.0272\n",
      "Epoch 699/1000\n",
      "506/506 [==============================] - 0s 78us/step - loss: 35.4216\n",
      "Epoch 700/1000\n",
      "506/506 [==============================] - 0s 72us/step - loss: 37.5541\n",
      "Epoch 701/1000\n",
      "506/506 [==============================] - 0s 77us/step - loss: 37.7952\n",
      "Epoch 702/1000\n",
      "506/506 [==============================] - 0s 71us/step - loss: 35.7759\n",
      "Epoch 703/1000\n",
      "506/506 [==============================] - 0s 75us/step - loss: 34.2130\n",
      "Epoch 704/1000\n",
      "506/506 [==============================] - 0s 75us/step - loss: 36.0626\n",
      "Epoch 705/1000\n",
      "506/506 [==============================] - 0s 68us/step - loss: 34.2769\n",
      "Epoch 706/1000\n",
      "506/506 [==============================] - 0s 72us/step - loss: 36.8654\n",
      "Epoch 707/1000\n",
      "506/506 [==============================] - 0s 79us/step - loss: 38.4068\n",
      "Epoch 708/1000\n",
      "506/506 [==============================] - 0s 73us/step - loss: 36.5181\n",
      "Epoch 709/1000\n",
      "506/506 [==============================] - 0s 78us/step - loss: 35.6690\n",
      "Epoch 710/1000\n",
      "506/506 [==============================] - 0s 77us/step - loss: 36.8687\n",
      "Epoch 711/1000\n",
      "506/506 [==============================] - 0s 79us/step - loss: 36.1496\n",
      "Epoch 712/1000\n",
      "506/506 [==============================] - 0s 73us/step - loss: 33.8325\n",
      "Epoch 713/1000\n",
      "506/506 [==============================] - 0s 80us/step - loss: 37.0994\n",
      "Epoch 714/1000\n",
      "506/506 [==============================] - 0s 72us/step - loss: 37.9934\n",
      "Epoch 715/1000\n",
      "506/506 [==============================] - 0s 76us/step - loss: 34.6063\n",
      "Epoch 716/1000\n",
      "506/506 [==============================] - 0s 85us/step - loss: 35.4867\n",
      "Epoch 717/1000\n",
      "506/506 [==============================] - 0s 73us/step - loss: 36.4693\n",
      "Epoch 718/1000\n",
      "506/506 [==============================] - 0s 69us/step - loss: 36.0311\n",
      "Epoch 719/1000\n",
      "506/506 [==============================] - 0s 74us/step - loss: 35.2763\n",
      "Epoch 720/1000\n",
      "506/506 [==============================] - 0s 73us/step - loss: 35.1275\n",
      "Epoch 721/1000\n",
      "506/506 [==============================] - 0s 84us/step - loss: 39.2230\n",
      "Epoch 722/1000\n",
      "506/506 [==============================] - 0s 70us/step - loss: 34.1470\n",
      "Epoch 723/1000\n",
      "506/506 [==============================] - 0s 69us/step - loss: 37.3719\n",
      "Epoch 724/1000\n",
      "506/506 [==============================] - 0s 72us/step - loss: 35.8323\n",
      "Epoch 725/1000\n",
      "506/506 [==============================] - 0s 73us/step - loss: 35.8391\n",
      "Epoch 726/1000\n",
      "506/506 [==============================] - 0s 70us/step - loss: 36.2153\n",
      "Epoch 727/1000\n",
      "506/506 [==============================] - 0s 75us/step - loss: 35.9844\n",
      "Epoch 728/1000\n",
      "506/506 [==============================] - 0s 73us/step - loss: 35.9636\n",
      "Epoch 729/1000\n",
      "506/506 [==============================] - 0s 72us/step - loss: 33.2797\n",
      "Epoch 730/1000\n",
      "506/506 [==============================] - 0s 72us/step - loss: 35.0920\n",
      "Epoch 731/1000\n",
      "506/506 [==============================] - 0s 74us/step - loss: 34.8241\n",
      "Epoch 732/1000\n",
      "506/506 [==============================] - 0s 77us/step - loss: 34.6779\n",
      "Epoch 733/1000\n",
      "506/506 [==============================] - 0s 75us/step - loss: 37.2246\n",
      "Epoch 734/1000\n",
      "506/506 [==============================] - 0s 74us/step - loss: 36.4380\n",
      "Epoch 735/1000\n",
      "506/506 [==============================] - 0s 78us/step - loss: 35.2252\n",
      "Epoch 736/1000\n",
      "506/506 [==============================] - 0s 77us/step - loss: 35.4467\n",
      "Epoch 737/1000\n",
      "506/506 [==============================] - 0s 74us/step - loss: 34.7387\n",
      "Epoch 738/1000\n",
      "506/506 [==============================] - 0s 73us/step - loss: 37.9088\n",
      "Epoch 739/1000\n",
      "506/506 [==============================] - 0s 74us/step - loss: 35.7420\n",
      "Epoch 740/1000\n",
      "506/506 [==============================] - 0s 69us/step - loss: 37.2124\n",
      "Epoch 741/1000\n",
      "506/506 [==============================] - 0s 70us/step - loss: 35.4858\n",
      "Epoch 742/1000\n",
      "506/506 [==============================] - 0s 72us/step - loss: 36.2519\n",
      "Epoch 743/1000\n",
      "506/506 [==============================] - 0s 74us/step - loss: 35.0888\n",
      "Epoch 744/1000\n",
      "506/506 [==============================] - 0s 70us/step - loss: 34.6653\n",
      "Epoch 745/1000\n",
      "506/506 [==============================] - 0s 68us/step - loss: 34.6485\n",
      "Epoch 746/1000\n",
      "506/506 [==============================] - 0s 78us/step - loss: 35.0564\n",
      "Epoch 747/1000\n",
      "506/506 [==============================] - 0s 69us/step - loss: 37.5890\n",
      "Epoch 748/1000\n",
      "506/506 [==============================] - 0s 72us/step - loss: 34.8709\n",
      "Epoch 749/1000\n",
      "506/506 [==============================] - 0s 73us/step - loss: 35.1245\n",
      "Epoch 750/1000\n",
      "506/506 [==============================] - 0s 74us/step - loss: 36.0818\n",
      "Epoch 751/1000\n",
      "506/506 [==============================] - 0s 77us/step - loss: 36.9388\n",
      "Epoch 752/1000\n",
      "506/506 [==============================] - 0s 75us/step - loss: 37.1883\n",
      "Epoch 753/1000\n",
      "506/506 [==============================] - 0s 71us/step - loss: 35.6609\n",
      "Epoch 754/1000\n"
     ]
    },
    {
     "name": "stdout",
     "output_type": "stream",
     "text": [
      "506/506 [==============================] - 0s 71us/step - loss: 35.7790\n",
      "Epoch 755/1000\n",
      "506/506 [==============================] - 0s 72us/step - loss: 34.7420\n",
      "Epoch 756/1000\n",
      "506/506 [==============================] - 0s 74us/step - loss: 35.6192\n",
      "Epoch 757/1000\n",
      "506/506 [==============================] - 0s 73us/step - loss: 34.6164\n",
      "Epoch 758/1000\n",
      "506/506 [==============================] - 0s 75us/step - loss: 40.0609\n",
      "Epoch 759/1000\n",
      "506/506 [==============================] - 0s 77us/step - loss: 35.3968\n",
      "Epoch 760/1000\n",
      "506/506 [==============================] - 0s 74us/step - loss: 38.6292\n",
      "Epoch 761/1000\n",
      "506/506 [==============================] - 0s 75us/step - loss: 36.6629\n",
      "Epoch 762/1000\n",
      "506/506 [==============================] - 0s 71us/step - loss: 34.3735\n",
      "Epoch 763/1000\n",
      "506/506 [==============================] - 0s 72us/step - loss: 34.9274\n",
      "Epoch 764/1000\n",
      "506/506 [==============================] - 0s 76us/step - loss: 35.7125\n",
      "Epoch 765/1000\n",
      "506/506 [==============================] - 0s 77us/step - loss: 35.1280\n",
      "Epoch 766/1000\n",
      "506/506 [==============================] - 0s 80us/step - loss: 36.7501\n",
      "Epoch 767/1000\n",
      "506/506 [==============================] - 0s 77us/step - loss: 34.1520\n",
      "Epoch 768/1000\n",
      "506/506 [==============================] - 0s 78us/step - loss: 36.3495\n",
      "Epoch 769/1000\n",
      "506/506 [==============================] - 0s 77us/step - loss: 35.6612\n",
      "Epoch 770/1000\n",
      "506/506 [==============================] - 0s 78us/step - loss: 36.4776\n",
      "Epoch 771/1000\n",
      "506/506 [==============================] - 0s 76us/step - loss: 36.1911\n",
      "Epoch 772/1000\n",
      "506/506 [==============================] - 0s 76us/step - loss: 38.1078\n",
      "Epoch 773/1000\n",
      "506/506 [==============================] - 0s 72us/step - loss: 36.7739\n",
      "Epoch 774/1000\n",
      "506/506 [==============================] - 0s 72us/step - loss: 35.4495\n",
      "Epoch 775/1000\n",
      "506/506 [==============================] - 0s 68us/step - loss: 36.7144\n",
      "Epoch 776/1000\n",
      "506/506 [==============================] - 0s 76us/step - loss: 36.1616\n",
      "Epoch 777/1000\n",
      "506/506 [==============================] - 0s 75us/step - loss: 34.1736\n",
      "Epoch 778/1000\n",
      "506/506 [==============================] - 0s 68us/step - loss: 38.5581\n",
      "Epoch 779/1000\n",
      "506/506 [==============================] - 0s 70us/step - loss: 35.4919\n",
      "Epoch 780/1000\n",
      "506/506 [==============================] - 0s 70us/step - loss: 35.4235\n",
      "Epoch 781/1000\n",
      "506/506 [==============================] - 0s 77us/step - loss: 36.4498\n",
      "Epoch 782/1000\n",
      "506/506 [==============================] - 0s 74us/step - loss: 36.0065\n",
      "Epoch 783/1000\n",
      "506/506 [==============================] - 0s 68us/step - loss: 35.6012\n",
      "Epoch 784/1000\n",
      "506/506 [==============================] - 0s 68us/step - loss: 34.4469\n",
      "Epoch 785/1000\n",
      "506/506 [==============================] - 0s 70us/step - loss: 34.0247\n",
      "Epoch 786/1000\n",
      "506/506 [==============================] - 0s 69us/step - loss: 35.0505\n",
      "Epoch 787/1000\n",
      "506/506 [==============================] - 0s 70us/step - loss: 34.1512\n",
      "Epoch 788/1000\n",
      "506/506 [==============================] - 0s 80us/step - loss: 38.6467\n",
      "Epoch 789/1000\n",
      "506/506 [==============================] - 0s 69us/step - loss: 35.3646\n",
      "Epoch 790/1000\n",
      "506/506 [==============================] - 0s 74us/step - loss: 36.0425\n",
      "Epoch 791/1000\n",
      "506/506 [==============================] - 0s 71us/step - loss: 34.7516\n",
      "Epoch 792/1000\n",
      "506/506 [==============================] - 0s 72us/step - loss: 35.9850\n",
      "Epoch 793/1000\n",
      "506/506 [==============================] - 0s 69us/step - loss: 36.8774\n",
      "Epoch 794/1000\n",
      "506/506 [==============================] - 0s 75us/step - loss: 35.6858\n",
      "Epoch 795/1000\n",
      "506/506 [==============================] - 0s 75us/step - loss: 35.8073\n",
      "Epoch 796/1000\n",
      "506/506 [==============================] - 0s 71us/step - loss: 36.3070\n",
      "Epoch 797/1000\n",
      "506/506 [==============================] - 0s 79us/step - loss: 37.8720\n",
      "Epoch 798/1000\n",
      "506/506 [==============================] - 0s 69us/step - loss: 35.8568\n",
      "Epoch 799/1000\n",
      "506/506 [==============================] - 0s 71us/step - loss: 33.2169\n",
      "Epoch 800/1000\n",
      "506/506 [==============================] - 0s 75us/step - loss: 38.0791\n",
      "Epoch 801/1000\n",
      "506/506 [==============================] - 0s 76us/step - loss: 37.0761\n",
      "Epoch 802/1000\n",
      "506/506 [==============================] - 0s 75us/step - loss: 37.6325\n",
      "Epoch 803/1000\n",
      "506/506 [==============================] - 0s 72us/step - loss: 35.3579\n",
      "Epoch 804/1000\n",
      "506/506 [==============================] - 0s 71us/step - loss: 34.5803\n",
      "Epoch 805/1000\n",
      "506/506 [==============================] - 0s 70us/step - loss: 35.3544\n",
      "Epoch 806/1000\n",
      "506/506 [==============================] - 0s 77us/step - loss: 36.4357\n",
      "Epoch 807/1000\n",
      "506/506 [==============================] - 0s 76us/step - loss: 34.3094\n",
      "Epoch 808/1000\n",
      "506/506 [==============================] - 0s 77us/step - loss: 35.0672\n",
      "Epoch 809/1000\n",
      "506/506 [==============================] - 0s 79us/step - loss: 35.4630\n",
      "Epoch 810/1000\n",
      "506/506 [==============================] - 0s 67us/step - loss: 39.9957\n",
      "Epoch 811/1000\n",
      "506/506 [==============================] - 0s 79us/step - loss: 37.7742\n",
      "Epoch 812/1000\n",
      "506/506 [==============================] - 0s 69us/step - loss: 38.8288\n",
      "Epoch 813/1000\n",
      "506/506 [==============================] - 0s 71us/step - loss: 35.9962\n",
      "Epoch 814/1000\n",
      "506/506 [==============================] - 0s 74us/step - loss: 35.3990\n",
      "Epoch 815/1000\n",
      "506/506 [==============================] - 0s 70us/step - loss: 36.0372\n",
      "Epoch 816/1000\n",
      "506/506 [==============================] - 0s 80us/step - loss: 33.8865\n",
      "Epoch 817/1000\n",
      "506/506 [==============================] - 0s 75us/step - loss: 35.0747\n",
      "Epoch 818/1000\n",
      "506/506 [==============================] - 0s 72us/step - loss: 35.8448\n",
      "Epoch 819/1000\n",
      "506/506 [==============================] - 0s 79us/step - loss: 35.8737\n",
      "Epoch 820/1000\n",
      "506/506 [==============================] - 0s 76us/step - loss: 36.6997\n",
      "Epoch 821/1000\n",
      "506/506 [==============================] - 0s 73us/step - loss: 34.6280\n",
      "Epoch 822/1000\n",
      "506/506 [==============================] - 0s 76us/step - loss: 36.5260\n",
      "Epoch 823/1000\n",
      "506/506 [==============================] - 0s 79us/step - loss: 34.8966\n",
      "Epoch 824/1000\n",
      "506/506 [==============================] - 0s 74us/step - loss: 36.2522\n",
      "Epoch 825/1000\n",
      "506/506 [==============================] - 0s 76us/step - loss: 34.7316\n",
      "Epoch 826/1000\n",
      "506/506 [==============================] - 0s 73us/step - loss: 36.0194\n",
      "Epoch 827/1000\n",
      "506/506 [==============================] - 0s 75us/step - loss: 38.1002\n",
      "Epoch 828/1000\n",
      "506/506 [==============================] - 0s 71us/step - loss: 34.8671\n",
      "Epoch 829/1000\n",
      "506/506 [==============================] - 0s 76us/step - loss: 34.6646\n",
      "Epoch 830/1000\n",
      "506/506 [==============================] - 0s 76us/step - loss: 34.8128\n",
      "Epoch 831/1000\n",
      "506/506 [==============================] - 0s 77us/step - loss: 37.0577\n",
      "Epoch 832/1000\n",
      "506/506 [==============================] - 0s 78us/step - loss: 35.1929\n",
      "Epoch 833/1000\n",
      "506/506 [==============================] - 0s 75us/step - loss: 34.6326\n",
      "Epoch 834/1000\n",
      "506/506 [==============================] - 0s 74us/step - loss: 36.9033\n",
      "Epoch 835/1000\n",
      "506/506 [==============================] - 0s 71us/step - loss: 36.1068\n",
      "Epoch 836/1000\n",
      "506/506 [==============================] - 0s 70us/step - loss: 37.5218\n",
      "Epoch 837/1000\n",
      "506/506 [==============================] - 0s 70us/step - loss: 34.0828\n",
      "Epoch 838/1000\n",
      "506/506 [==============================] - 0s 76us/step - loss: 35.1742\n",
      "Epoch 839/1000\n",
      "506/506 [==============================] - 0s 74us/step - loss: 35.9976\n",
      "Epoch 840/1000\n",
      "506/506 [==============================] - 0s 71us/step - loss: 34.4244\n",
      "Epoch 841/1000\n",
      "506/506 [==============================] - 0s 75us/step - loss: 36.1438\n",
      "Epoch 842/1000\n",
      "506/506 [==============================] - 0s 73us/step - loss: 37.2989\n",
      "Epoch 843/1000\n",
      "506/506 [==============================] - 0s 75us/step - loss: 37.0025\n",
      "Epoch 844/1000\n",
      "506/506 [==============================] - 0s 62us/step - loss: 37.4402\n",
      "Epoch 845/1000\n",
      "506/506 [==============================] - 0s 73us/step - loss: 34.7341\n",
      "Epoch 846/1000\n",
      "506/506 [==============================] - 0s 73us/step - loss: 35.2601\n",
      "Epoch 847/1000\n",
      "506/506 [==============================] - 0s 75us/step - loss: 36.3138\n",
      "Epoch 848/1000\n"
     ]
    },
    {
     "name": "stdout",
     "output_type": "stream",
     "text": [
      "506/506 [==============================] - 0s 78us/step - loss: 34.4099\n",
      "Epoch 849/1000\n",
      "506/506 [==============================] - 0s 75us/step - loss: 34.3789\n",
      "Epoch 850/1000\n",
      "506/506 [==============================] - 0s 77us/step - loss: 34.4550\n",
      "Epoch 851/1000\n",
      "506/506 [==============================] - 0s 73us/step - loss: 36.1303\n",
      "Epoch 852/1000\n",
      "506/506 [==============================] - 0s 74us/step - loss: 36.4080\n",
      "Epoch 853/1000\n",
      "506/506 [==============================] - 0s 73us/step - loss: 36.3218\n",
      "Epoch 854/1000\n",
      "506/506 [==============================] - 0s 74us/step - loss: 36.0259\n",
      "Epoch 855/1000\n",
      "506/506 [==============================] - 0s 73us/step - loss: 37.2462\n",
      "Epoch 856/1000\n",
      "506/506 [==============================] - 0s 75us/step - loss: 34.2354\n",
      "Epoch 857/1000\n",
      "506/506 [==============================] - 0s 70us/step - loss: 34.3921\n",
      "Epoch 858/1000\n",
      "506/506 [==============================] - 0s 69us/step - loss: 36.1890\n",
      "Epoch 859/1000\n",
      "506/506 [==============================] - 0s 73us/step - loss: 35.8533\n",
      "Epoch 860/1000\n",
      "506/506 [==============================] - 0s 72us/step - loss: 36.9184\n",
      "Epoch 861/1000\n",
      "506/506 [==============================] - 0s 76us/step - loss: 36.1654\n",
      "Epoch 862/1000\n",
      "506/506 [==============================] - 0s 77us/step - loss: 34.5276\n",
      "Epoch 863/1000\n",
      "506/506 [==============================] - 0s 82us/step - loss: 34.7879\n",
      "Epoch 864/1000\n",
      "506/506 [==============================] - 0s 69us/step - loss: 38.4934\n",
      "Epoch 865/1000\n",
      "506/506 [==============================] - 0s 72us/step - loss: 34.8873\n",
      "Epoch 866/1000\n",
      "506/506 [==============================] - 0s 76us/step - loss: 34.8028\n",
      "Epoch 867/1000\n",
      "506/506 [==============================] - 0s 77us/step - loss: 38.0044\n",
      "Epoch 868/1000\n",
      "506/506 [==============================] - 0s 77us/step - loss: 36.0644\n",
      "Epoch 869/1000\n",
      "506/506 [==============================] - 0s 77us/step - loss: 35.4297\n",
      "Epoch 870/1000\n",
      "506/506 [==============================] - 0s 76us/step - loss: 37.0224\n",
      "Epoch 871/1000\n",
      "506/506 [==============================] - 0s 74us/step - loss: 35.4509\n",
      "Epoch 872/1000\n",
      "506/506 [==============================] - 0s 73us/step - loss: 36.0232\n",
      "Epoch 873/1000\n",
      "506/506 [==============================] - 0s 75us/step - loss: 34.2890\n",
      "Epoch 874/1000\n",
      "506/506 [==============================] - 0s 76us/step - loss: 37.3834\n",
      "Epoch 875/1000\n",
      "506/506 [==============================] - 0s 60us/step - loss: 35.7670\n",
      "Epoch 876/1000\n",
      "506/506 [==============================] - 0s 75us/step - loss: 35.9371\n",
      "Epoch 877/1000\n",
      "506/506 [==============================] - 0s 33us/step - loss: 35.8288\n",
      "Epoch 878/1000\n",
      "506/506 [==============================] - 0s 37us/step - loss: 35.4869\n",
      "Epoch 879/1000\n",
      "506/506 [==============================] - 0s 43us/step - loss: 34.9896\n",
      "Epoch 880/1000\n",
      "506/506 [==============================] - 0s 36us/step - loss: 33.3129\n",
      "Epoch 881/1000\n",
      "506/506 [==============================] - 0s 57us/step - loss: 34.1768\n",
      "Epoch 882/1000\n",
      "506/506 [==============================] - 0s 73us/step - loss: 35.0054\n",
      "Epoch 883/1000\n",
      "506/506 [==============================] - 0s 72us/step - loss: 37.6283\n",
      "Epoch 884/1000\n",
      "506/506 [==============================] - 0s 77us/step - loss: 34.5986\n",
      "Epoch 885/1000\n",
      "506/506 [==============================] - 0s 76us/step - loss: 35.5654\n",
      "Epoch 886/1000\n",
      "506/506 [==============================] - 0s 70us/step - loss: 34.5031\n",
      "Epoch 887/1000\n",
      "506/506 [==============================] - 0s 72us/step - loss: 37.3170\n",
      "Epoch 888/1000\n",
      "506/506 [==============================] - 0s 77us/step - loss: 35.6078\n",
      "Epoch 889/1000\n",
      "506/506 [==============================] - 0s 71us/step - loss: 34.9552\n",
      "Epoch 890/1000\n",
      "506/506 [==============================] - 0s 78us/step - loss: 37.8364\n",
      "Epoch 891/1000\n",
      "506/506 [==============================] - 0s 67us/step - loss: 36.8249\n",
      "Epoch 892/1000\n",
      "506/506 [==============================] - 0s 78us/step - loss: 33.4791\n",
      "Epoch 893/1000\n",
      "506/506 [==============================] - 0s 71us/step - loss: 36.8394\n",
      "Epoch 894/1000\n",
      "506/506 [==============================] - 0s 73us/step - loss: 34.7338\n",
      "Epoch 895/1000\n",
      "506/506 [==============================] - 0s 75us/step - loss: 36.4740\n",
      "Epoch 896/1000\n",
      "506/506 [==============================] - 0s 69us/step - loss: 35.6282\n",
      "Epoch 897/1000\n",
      "506/506 [==============================] - 0s 72us/step - loss: 37.1910\n",
      "Epoch 898/1000\n",
      "506/506 [==============================] - 0s 71us/step - loss: 38.0173\n",
      "Epoch 899/1000\n",
      "506/506 [==============================] - 0s 75us/step - loss: 34.5789\n",
      "Epoch 900/1000\n",
      "506/506 [==============================] - 0s 80us/step - loss: 36.9925\n",
      "Epoch 901/1000\n",
      "506/506 [==============================] - 0s 75us/step - loss: 35.7079\n",
      "Epoch 902/1000\n",
      "506/506 [==============================] - 0s 77us/step - loss: 34.4746\n",
      "Epoch 903/1000\n",
      "506/506 [==============================] - 0s 76us/step - loss: 36.1276\n",
      "Epoch 904/1000\n",
      "506/506 [==============================] - 0s 76us/step - loss: 34.7930\n",
      "Epoch 905/1000\n",
      "506/506 [==============================] - 0s 78us/step - loss: 36.6044\n",
      "Epoch 906/1000\n",
      "506/506 [==============================] - 0s 75us/step - loss: 38.6090\n",
      "Epoch 907/1000\n",
      "506/506 [==============================] - 0s 77us/step - loss: 35.0009\n",
      "Epoch 908/1000\n",
      "506/506 [==============================] - 0s 75us/step - loss: 36.7352\n",
      "Epoch 909/1000\n",
      "506/506 [==============================] - 0s 76us/step - loss: 35.6049\n",
      "Epoch 910/1000\n",
      "506/506 [==============================] - 0s 79us/step - loss: 35.0748\n",
      "Epoch 911/1000\n",
      "506/506 [==============================] - 0s 76us/step - loss: 36.6311\n",
      "Epoch 912/1000\n",
      "506/506 [==============================] - 0s 73us/step - loss: 35.0102\n",
      "Epoch 913/1000\n",
      "506/506 [==============================] - 0s 74us/step - loss: 35.9842\n",
      "Epoch 914/1000\n",
      "506/506 [==============================] - 0s 73us/step - loss: 35.3616\n",
      "Epoch 915/1000\n",
      "506/506 [==============================] - 0s 72us/step - loss: 35.4059\n",
      "Epoch 916/1000\n",
      "506/506 [==============================] - 0s 71us/step - loss: 35.5049\n",
      "Epoch 917/1000\n",
      "506/506 [==============================] - 0s 73us/step - loss: 35.0346\n",
      "Epoch 918/1000\n",
      "506/506 [==============================] - 0s 73us/step - loss: 35.3005\n",
      "Epoch 919/1000\n",
      "506/506 [==============================] - 0s 80us/step - loss: 35.4187\n",
      "Epoch 920/1000\n",
      "506/506 [==============================] - 0s 75us/step - loss: 36.4318\n",
      "Epoch 921/1000\n",
      "506/506 [==============================] - 0s 74us/step - loss: 38.2757\n",
      "Epoch 922/1000\n",
      "506/506 [==============================] - 0s 75us/step - loss: 37.0523\n",
      "Epoch 923/1000\n",
      "506/506 [==============================] - 0s 73us/step - loss: 34.9022\n",
      "Epoch 924/1000\n",
      "506/506 [==============================] - 0s 69us/step - loss: 40.6016\n",
      "Epoch 925/1000\n",
      "506/506 [==============================] - 0s 73us/step - loss: 36.4080\n",
      "Epoch 926/1000\n",
      "506/506 [==============================] - 0s 74us/step - loss: 36.4827\n",
      "Epoch 927/1000\n",
      "506/506 [==============================] - 0s 76us/step - loss: 35.1654\n",
      "Epoch 928/1000\n",
      "506/506 [==============================] - 0s 73us/step - loss: 35.7508\n",
      "Epoch 929/1000\n",
      "506/506 [==============================] - 0s 72us/step - loss: 35.7962\n",
      "Epoch 930/1000\n",
      "506/506 [==============================] - 0s 77us/step - loss: 34.3933\n",
      "Epoch 931/1000\n",
      "506/506 [==============================] - 0s 70us/step - loss: 34.9692\n",
      "Epoch 932/1000\n",
      "506/506 [==============================] - 0s 75us/step - loss: 35.4694\n",
      "Epoch 933/1000\n",
      "506/506 [==============================] - 0s 71us/step - loss: 36.3896\n",
      "Epoch 934/1000\n",
      "506/506 [==============================] - 0s 71us/step - loss: 36.4715\n",
      "Epoch 935/1000\n",
      "506/506 [==============================] - 0s 58us/step - loss: 34.7844\n",
      "Epoch 936/1000\n",
      "506/506 [==============================] - 0s 42us/step - loss: 35.9416\n",
      "Epoch 937/1000\n",
      "506/506 [==============================] - 0s 51us/step - loss: 36.1426\n",
      "Epoch 938/1000\n",
      "506/506 [==============================] - 0s 39us/step - loss: 39.6825\n",
      "Epoch 939/1000\n",
      "506/506 [==============================] - 0s 40us/step - loss: 35.8636\n",
      "Epoch 940/1000\n",
      "506/506 [==============================] - 0s 45us/step - loss: 34.2374\n",
      "Epoch 941/1000\n",
      "506/506 [==============================] - 0s 38us/step - loss: 35.4529\n",
      "Epoch 942/1000\n"
     ]
    },
    {
     "name": "stdout",
     "output_type": "stream",
     "text": [
      "506/506 [==============================] - 0s 42us/step - loss: 33.4989\n",
      "Epoch 943/1000\n",
      "506/506 [==============================] - 0s 46us/step - loss: 34.8906\n",
      "Epoch 944/1000\n",
      "506/506 [==============================] - 0s 40us/step - loss: 35.5333\n",
      "Epoch 945/1000\n",
      "506/506 [==============================] - 0s 76us/step - loss: 35.1982\n",
      "Epoch 946/1000\n",
      "506/506 [==============================] - 0s 74us/step - loss: 36.2407\n",
      "Epoch 947/1000\n",
      "506/506 [==============================] - 0s 90us/step - loss: 36.1287\n",
      "Epoch 948/1000\n",
      "506/506 [==============================] - 0s 83us/step - loss: 34.2316\n",
      "Epoch 949/1000\n",
      "506/506 [==============================] - 0s 69us/step - loss: 32.9988\n",
      "Epoch 950/1000\n",
      "506/506 [==============================] - 0s 56us/step - loss: 33.7265\n",
      "Epoch 951/1000\n",
      "506/506 [==============================] - 0s 53us/step - loss: 37.0722\n",
      "Epoch 952/1000\n",
      "506/506 [==============================] - 0s 49us/step - loss: 34.0092\n",
      "Epoch 953/1000\n",
      "506/506 [==============================] - 0s 40us/step - loss: 35.3183\n",
      "Epoch 954/1000\n",
      "506/506 [==============================] - 0s 41us/step - loss: 35.2472\n",
      "Epoch 955/1000\n",
      "506/506 [==============================] - 0s 57us/step - loss: 34.3276\n",
      "Epoch 956/1000\n",
      "506/506 [==============================] - 0s 80us/step - loss: 35.0581\n",
      "Epoch 957/1000\n",
      "506/506 [==============================] - 0s 76us/step - loss: 36.1993\n",
      "Epoch 958/1000\n",
      "506/506 [==============================] - 0s 77us/step - loss: 36.2510\n",
      "Epoch 959/1000\n",
      "506/506 [==============================] - ETA: 0s - loss: 24.03 - 0s 76us/step - loss: 36.2016\n",
      "Epoch 960/1000\n",
      "506/506 [==============================] - 0s 76us/step - loss: 36.4846\n",
      "Epoch 961/1000\n",
      "506/506 [==============================] - 0s 83us/step - loss: 35.1651\n",
      "Epoch 962/1000\n",
      "506/506 [==============================] - 0s 77us/step - loss: 33.4760\n",
      "Epoch 963/1000\n",
      "506/506 [==============================] - 0s 73us/step - loss: 37.7736\n",
      "Epoch 964/1000\n",
      "506/506 [==============================] - 0s 77us/step - loss: 34.2372\n",
      "Epoch 965/1000\n",
      "506/506 [==============================] - 0s 80us/step - loss: 36.4613\n",
      "Epoch 966/1000\n",
      "506/506 [==============================] - 0s 79us/step - loss: 36.1543\n",
      "Epoch 967/1000\n",
      "506/506 [==============================] - 0s 84us/step - loss: 37.2719\n",
      "Epoch 968/1000\n",
      "506/506 [==============================] - 0s 79us/step - loss: 35.8457\n",
      "Epoch 969/1000\n",
      "506/506 [==============================] - 0s 74us/step - loss: 34.8072\n",
      "Epoch 970/1000\n",
      "506/506 [==============================] - 0s 78us/step - loss: 36.0431\n",
      "Epoch 971/1000\n",
      "506/506 [==============================] - 0s 86us/step - loss: 34.6346\n",
      "Epoch 972/1000\n",
      "506/506 [==============================] - 0s 82us/step - loss: 33.2122\n",
      "Epoch 973/1000\n",
      "506/506 [==============================] - 0s 79us/step - loss: 36.5980\n",
      "Epoch 974/1000\n",
      "506/506 [==============================] - 0s 100us/step - loss: 37.7046\n",
      "Epoch 975/1000\n",
      "506/506 [==============================] - 0s 47us/step - loss: 35.6175\n",
      "Epoch 976/1000\n",
      "506/506 [==============================] - 0s 54us/step - loss: 35.9679\n",
      "Epoch 977/1000\n",
      "506/506 [==============================] - 0s 40us/step - loss: 36.6513\n",
      "Epoch 978/1000\n",
      "506/506 [==============================] - 0s 44us/step - loss: 37.8708\n",
      "Epoch 979/1000\n",
      "506/506 [==============================] - 0s 39us/step - loss: 35.8569\n",
      "Epoch 980/1000\n",
      "506/506 [==============================] - 0s 36us/step - loss: 34.5736\n",
      "Epoch 981/1000\n",
      "506/506 [==============================] - 0s 45us/step - loss: 33.8422\n",
      "Epoch 982/1000\n",
      "506/506 [==============================] - 0s 38us/step - loss: 38.0824\n",
      "Epoch 983/1000\n",
      "506/506 [==============================] - 0s 45us/step - loss: 35.7616\n",
      "Epoch 984/1000\n",
      "506/506 [==============================] - 0s 43us/step - loss: 36.0707\n",
      "Epoch 985/1000\n",
      "506/506 [==============================] - 0s 40us/step - loss: 36.8850\n",
      "Epoch 986/1000\n",
      "506/506 [==============================] - 0s 50us/step - loss: 35.8644\n",
      "Epoch 987/1000\n",
      "506/506 [==============================] - 0s 58us/step - loss: 34.5961\n",
      "Epoch 988/1000\n",
      "506/506 [==============================] - 0s 79us/step - loss: 35.1720\n",
      "Epoch 989/1000\n",
      "506/506 [==============================] - 0s 75us/step - loss: 35.0334\n",
      "Epoch 990/1000\n",
      "506/506 [==============================] - 0s 77us/step - loss: 35.2263\n",
      "Epoch 991/1000\n",
      "506/506 [==============================] - 0s 74us/step - loss: 34.2745\n",
      "Epoch 992/1000\n",
      "506/506 [==============================] - 0s 76us/step - loss: 39.1431\n",
      "Epoch 993/1000\n",
      "506/506 [==============================] - 0s 79us/step - loss: 35.8326\n",
      "Epoch 994/1000\n",
      "506/506 [==============================] - 0s 76us/step - loss: 37.1290\n",
      "Epoch 995/1000\n",
      "506/506 [==============================] - 0s 78us/step - loss: 33.9790\n",
      "Epoch 996/1000\n",
      "506/506 [==============================] - 0s 73us/step - loss: 35.4360\n",
      "Epoch 997/1000\n",
      "506/506 [==============================] - 0s 81us/step - loss: 36.3537\n",
      "Epoch 998/1000\n",
      "506/506 [==============================] - 0s 74us/step - loss: 37.3397\n",
      "Epoch 999/1000\n",
      "506/506 [==============================] - 0s 80us/step - loss: 35.2280\n",
      "Epoch 1000/1000\n",
      "506/506 [==============================] - 0s 78us/step - loss: 35.0220\n"
     ]
    },
    {
     "data": {
      "text/plain": [
       "<keras.callbacks.callbacks.History at 0x2578477c148>"
      ]
     },
     "execution_count": 113,
     "metadata": {},
     "output_type": "execute_result"
    }
   ],
   "source": [
    "model.fit(boston_df[[\"RM\", \"AGE\"]], boston_df[\"PRICE\"], epochs = 1000)"
   ]
  },
  {
   "cell_type": "markdown",
   "metadata": {},
   "source": [
    "# Estimators\n",
    "- High level API with less flexibility\n",
    "- Built in function for faster deployemnt "
   ]
  },
  {
   "cell_type": "code",
   "execution_count": 116,
   "metadata": {
    "ExecuteTime": {
     "end_time": "2020-05-28T17:27:11.216015Z",
     "start_time": "2020-05-28T17:27:11.209558Z"
    }
   },
   "outputs": [],
   "source": [
    "from tensorflow import estimator"
   ]
  },
  {
   "cell_type": "markdown",
   "metadata": {},
   "source": [
    "## Define the columns"
   ]
  },
  {
   "cell_type": "code",
   "execution_count": 124,
   "metadata": {
    "ExecuteTime": {
     "end_time": "2020-05-28T17:39:38.902820Z",
     "start_time": "2020-05-28T17:39:38.898826Z"
    }
   },
   "outputs": [],
   "source": [
    "RM = tf.feature_column.numeric_column(\"RM\")\n",
    "AGE = tf.feature_column.numeric_column(\"AGE\")\n",
    "feature_list = [RM, Age]"
   ]
  },
  {
   "cell_type": "markdown",
   "metadata": {},
   "source": [
    "## Input function"
   ]
  },
  {
   "cell_type": "code",
   "execution_count": 131,
   "metadata": {
    "ExecuteTime": {
     "end_time": "2020-05-28T17:44:02.275493Z",
     "start_time": "2020-05-28T17:44:02.267602Z"
    }
   },
   "outputs": [],
   "source": [
    "def input_fn():\n",
    "    target = np.float32(np.array(boston_df[\"PRICE\"]))\n",
    "    features = {'RM':np.float32(np.array(boston_df['RM'])), 'AGE':np.float32(np.array(boston_df['AGE']))}\n",
    "    return features, target"
   ]
  },
  {
   "cell_type": "markdown",
   "metadata": {},
   "source": [
    "## Define the LinearRegressor Model"
   ]
  },
  {
   "cell_type": "code",
   "execution_count": 133,
   "metadata": {
    "ExecuteTime": {
     "end_time": "2020-05-28T17:44:16.138444Z",
     "start_time": "2020-05-28T17:44:13.866516Z"
    }
   },
   "outputs": [
    {
     "name": "stdout",
     "output_type": "stream",
     "text": [
      "INFO:tensorflow:Using default config.\n",
      "WARNING:tensorflow:Using temporary folder as model directory: C:\\Users\\Onkar\\AppData\\Local\\Temp\\tmpbjg4d4jo\n",
      "INFO:tensorflow:Using config: {'_model_dir': 'C:\\\\Users\\\\Onkar\\\\AppData\\\\Local\\\\Temp\\\\tmpbjg4d4jo', '_tf_random_seed': None, '_save_summary_steps': 100, '_save_checkpoints_steps': None, '_save_checkpoints_secs': 600, '_session_config': allow_soft_placement: true\n",
      "graph_options {\n",
      "  rewrite_options {\n",
      "    meta_optimizer_iterations: ONE\n",
      "  }\n",
      "}\n",
      ", '_keep_checkpoint_max': 5, '_keep_checkpoint_every_n_hours': 10000, '_log_step_count_steps': 100, '_train_distribute': None, '_device_fn': None, '_protocol': None, '_eval_distribute': None, '_experimental_distribute': None, '_experimental_max_worker_delay_secs': None, '_session_creation_timeout_secs': 7200, '_service': None, '_cluster_spec': ClusterSpec({}), '_task_type': 'worker', '_task_id': 0, '_global_id_in_cluster': 0, '_master': '', '_evaluation_master': '', '_is_chief': True, '_num_ps_replicas': 0, '_num_worker_replicas': 1}\n",
      "INFO:tensorflow:Calling model_fn.\n",
      "INFO:tensorflow:Done calling model_fn.\n",
      "INFO:tensorflow:Create CheckpointSaverHook.\n",
      "INFO:tensorflow:Graph was finalized.\n",
      "INFO:tensorflow:Running local_init_op.\n",
      "INFO:tensorflow:Done running local_init_op.\n",
      "INFO:tensorflow:Saving checkpoints for 0 into C:\\Users\\Onkar\\AppData\\Local\\Temp\\tmpbjg4d4jo\\model.ckpt.\n",
      "INFO:tensorflow:loss = 592.1469, step = 0\n",
      "INFO:tensorflow:global_step/sec: 578.12\n",
      "INFO:tensorflow:loss = 86.08916, step = 100 (0.180 sec)\n",
      "INFO:tensorflow:global_step/sec: 460.301\n",
      "INFO:tensorflow:loss = 60.917004, step = 200 (0.214 sec)\n",
      "INFO:tensorflow:global_step/sec: 849.275\n",
      "INFO:tensorflow:loss = 52.55649, step = 300 (0.118 sec)\n",
      "INFO:tensorflow:global_step/sec: 1050.01\n",
      "INFO:tensorflow:loss = 49.533497, step = 400 (0.094 sec)\n",
      "INFO:tensorflow:global_step/sec: 1142.09\n",
      "INFO:tensorflow:loss = 48.38686, step = 500 (0.085 sec)\n",
      "INFO:tensorflow:global_step/sec: 1143.53\n",
      "INFO:tensorflow:loss = 47.92226, step = 600 (0.089 sec)\n",
      "INFO:tensorflow:global_step/sec: 1164.3\n",
      "INFO:tensorflow:loss = 47.70873, step = 700 (0.089 sec)\n",
      "INFO:tensorflow:global_step/sec: 1155.15\n",
      "INFO:tensorflow:loss = 47.588314, step = 800 (0.086 sec)\n",
      "INFO:tensorflow:global_step/sec: 1129.01\n",
      "INFO:tensorflow:loss = 47.502728, step = 900 (0.085 sec)\n",
      "INFO:tensorflow:Saving checkpoints for 1000 into C:\\Users\\Onkar\\AppData\\Local\\Temp\\tmpbjg4d4jo\\model.ckpt.\n",
      "INFO:tensorflow:Loss for final step: 47.43112.\n"
     ]
    }
   ],
   "source": [
    "model = estimator.LinearRegressor(feature_columns=feature_list)\n",
    "model.train(input_fn, steps=1000);"
   ]
  }
 ],
 "metadata": {
  "kernelspec": {
   "display_name": "Python 3",
   "language": "python",
   "name": "python3"
  },
  "language_info": {
   "codemirror_mode": {
    "name": "ipython",
    "version": 3
   },
   "file_extension": ".py",
   "mimetype": "text/x-python",
   "name": "python",
   "nbconvert_exporter": "python",
   "pygments_lexer": "ipython3",
   "version": "3.7.6"
  },
  "toc": {
   "base_numbering": 1,
   "nav_menu": {},
   "number_sections": true,
   "sideBar": true,
   "skip_h1_title": false,
   "title_cell": "Table of Contents",
   "title_sidebar": "Contents",
   "toc_cell": false,
   "toc_position": {},
   "toc_section_display": true,
   "toc_window_display": false
  }
 },
 "nbformat": 4,
 "nbformat_minor": 4
}
